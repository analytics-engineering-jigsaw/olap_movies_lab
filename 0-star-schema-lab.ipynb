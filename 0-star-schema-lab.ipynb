{
 "cells": [
  {
   "cell_type": "markdown",
   "id": "enclosed-bermuda",
   "metadata": {},
   "source": [
    "# Star Schema Lab"
   ]
  },
  {
   "cell_type": "markdown",
   "id": "revised-platinum",
   "metadata": {},
   "source": [
    "### Introduction"
   ]
  },
  {
   "cell_type": "markdown",
   "id": "expressed-cedar",
   "metadata": {},
   "source": [
    "In this lesson, we'll see some of the benefits of using the star schema.  We'll use a different database this time -- our IMDB database of movies and the related attributes of those movies.  \n",
    "\n",
    "Let's get started."
   ]
  },
  {
   "cell_type": "markdown",
   "id": "naughty-mathematics",
   "metadata": {},
   "source": [
    "### Exploring our Database"
   ]
  },
  {
   "cell_type": "markdown",
   "id": "closed-liberty",
   "metadata": {},
   "source": [
    "We can begin by conneccting to our database."
   ]
  },
  {
   "cell_type": "code",
   "execution_count": 1,
   "id": "cleared-fitting",
   "metadata": {},
   "outputs": [],
   "source": [
    "import sqlite3\n",
    "conn = sqlite3.connect('star_films.db')\n",
    "cursor = conn.cursor()"
   ]
  },
  {
   "cell_type": "markdown",
   "id": "normal-holly",
   "metadata": {},
   "source": [
    "And then we can get a sense of the related tables."
   ]
  },
  {
   "cell_type": "code",
   "execution_count": 2,
   "id": "attended-hawaii",
   "metadata": {},
   "outputs": [
    {
     "data": {
      "text/plain": [
       "[('release_dates',), ('writers',), ('directors',), ('actors',), ('movies',)]"
      ]
     },
     "execution_count": 2,
     "metadata": {},
     "output_type": "execute_result"
    }
   ],
   "source": [
    "cursor.execute('SELECT name from sqlite_master where type= \"table\"')\n",
    "cursor.fetchall()"
   ]
  },
  {
   "cell_type": "markdown",
   "id": "introductory-spectacular",
   "metadata": {},
   "source": [
    "So we have the following: \n",
    "\n",
    "* a fact table of `movies` and,\n",
    "* dimension tables of `release_dates`, `writers`, `directors`, and `actors`."
   ]
  },
  {
   "cell_type": "markdown",
   "id": "rocky-summer",
   "metadata": {},
   "source": [
    "<img src=\"./starred_films.png\" width=\"60%\">"
   ]
  },
  {
   "cell_type": "markdown",
   "id": "prime-secret",
   "metadata": {},
   "source": [
    "Now let's take a closer look at the fact table."
   ]
  },
  {
   "cell_type": "code",
   "execution_count": 5,
   "id": "desirable-broadcasting",
   "metadata": {},
   "outputs": [
    {
     "data": {
      "text/plain": [
       "[(0, 'id', 'INTEGER', 0, None, 0),\n",
       " (1, 'title', 'TEXT', 0, None, 0),\n",
       " (2, 'runtime', 'REAL', 0, None, 0),\n",
       " (3, 'release_date_id', 'INTEGER', 0, None, 0),\n",
       " (4, 'popularity', 'TEXT', 0, None, 0),\n",
       " (5, 'vote_average', 'REAL', 0, None, 0),\n",
       " (6, 'vote_count', 'REAL', 0, None, 0),\n",
       " (7, 'revenue', 'REAL', 0, None, 0),\n",
       " (8, 'budget', 'TEXT', 0, None, 0),\n",
       " (9, 'profit', 'REAL', 0, None, 0)]"
      ]
     },
     "execution_count": 5,
     "metadata": {},
     "output_type": "execute_result"
    }
   ],
   "source": [
    "cursor.execute('PRAGMA table_info(movies)')\n",
    "cursor.fetchall()"
   ]
  },
  {
   "cell_type": "markdown",
   "id": "grand-rugby",
   "metadata": {},
   "source": [
    "As we can see, except for the title, every attribute follows our rule of being either a metric -- runtime, popularity, revenue, budget and profit -- or a foreign key, like `release_date_id`.  Notice that our table is not normalized: profit is a derivative of revenue and budget.  But, we are ok with this in our OLAP, where we sacrifice single source of truth for a structure that enables queries that are faster and easier to write. "
   ]
  },
  {
   "cell_type": "markdown",
   "id": "honey-anaheim",
   "metadata": {},
   "source": [
    "> Let's take another look at the our schema again."
   ]
  },
  {
   "cell_type": "markdown",
   "id": "flying-studio",
   "metadata": {},
   "source": [
    "<img src=\"./starred_films.png\" width=\"60%\">"
   ]
  },
  {
   "cell_type": "markdown",
   "id": "greek-turner",
   "metadata": {},
   "source": [
    "The largest difference in how we structure our OLAP database is that above, we collapsed our many to many relationships of writers, actors, and directors into a belongs to has many relationship.  So, for example, even though an actor does have many movies, our star schema only represents the relationship that a movie has many actors.  This is because we anticipate our queries will largely answer questions about our fact table of *movie*, and not an actor. "
   ]
  },
  {
   "cell_type": "markdown",
   "id": "quality-designer",
   "metadata": {},
   "source": [
    "> Notice, that with the above schema, we *can* still construct the query to find all of the movies a specific actor is in, we'll just have to specify the actor's name instead of any actor id.  For example: \n",
    "> ```sql\n",
    "SELECT *.movies FROM movies JOIN actors on movies.actor_id = actors.id WHERE actors.name = 'Harrison Ford';\n",
    "```"
   ]
  },
  {
   "cell_type": "markdown",
   "id": "remarkable-version",
   "metadata": {},
   "source": [
    "### Constructing Queries"
   ]
  },
  {
   "cell_type": "markdown",
   "id": "textile-wrestling",
   "metadata": {},
   "source": [
    "Ok, we'll copy over the star schema once again, so you can reference it when writing queries."
   ]
  },
  {
   "cell_type": "markdown",
   "id": "continuing-beginning",
   "metadata": {},
   "source": [
    "> <img src=\"./starred_films.png\" width=\"50%\">"
   ]
  },
  {
   "cell_type": "markdown",
   "id": "abstract-exercise",
   "metadata": {},
   "source": [
    "Answer the following questions:"
   ]
  },
  {
   "cell_type": "markdown",
   "id": "laughing-electron",
   "metadata": {},
   "source": [
    "1. What are the top five movies by profit."
   ]
  },
  {
   "cell_type": "code",
   "execution_count": 4,
   "id": "alert-terrain",
   "metadata": {},
   "outputs": [],
   "source": [
    "import pandas as pd"
   ]
  },
  {
   "cell_type": "code",
   "execution_count": 6,
   "id": "latin-twins",
   "metadata": {},
   "outputs": [],
   "source": [
    "# query = \"\"\n",
    "# pd.read_sql(query, conn)\n",
    "\n",
    "# \tid\ttitle\truntime\trelease_date_id\tpopularity\tvote_average\tvote_count\trevenue\tbudget\tprofit\n",
    "# 0\t1089\tAvatar\t162.0\t432\t185.070892\t7.2\t12114.0\t2.787965e+09\t237000000\t2.550965e+09\n",
    "# 1\t405\tTitanic\t98.0\t5599\t26.88907\t7.5\t7770.0\t1.845034e+09\t200000000\t1.645034e+09\n",
    "# 2\t15109\tTitanic\t194.0\t5603\t26.88907\t7.5\t7770.0\t1.845034e+09\t200000000\t1.645034e+09\n",
    "# 3\t2294\tJurassic World\t123.0\t2421\t32.790475\t6.5\t8842.0\t1.513529e+09\t150000000\t1.363529e+09\n",
    "# 4\t317\tFurious 7\t140.0\t1752\t27.275687\t7.3\t4253.0\t1.506249e+09\t190000000\t1.316249e+09"
   ]
  },
  {
   "cell_type": "markdown",
   "id": "bronze-webmaster",
   "metadata": {},
   "source": [
    "Next let's find the top five actors whose movies have the highest total profit."
   ]
  },
  {
   "cell_type": "code",
   "execution_count": 45,
   "id": "specified-renewal",
   "metadata": {},
   "outputs": [
    {
     "data": {
      "text/html": [
       "<div>\n",
       "<style scoped>\n",
       "    .dataframe tbody tr th:only-of-type {\n",
       "        vertical-align: middle;\n",
       "    }\n",
       "\n",
       "    .dataframe tbody tr th {\n",
       "        vertical-align: top;\n",
       "    }\n",
       "\n",
       "    .dataframe thead th {\n",
       "        text-align: right;\n",
       "    }\n",
       "</style>\n",
       "<table border=\"1\" class=\"dataframe\">\n",
       "  <thead>\n",
       "    <tr style=\"text-align: right;\">\n",
       "      <th></th>\n",
       "      <th>name</th>\n",
       "      <th>total_profit</th>\n",
       "    </tr>\n",
       "  </thead>\n",
       "  <tbody>\n",
       "    <tr>\n",
       "      <th>0</th>\n",
       "      <td>Ian McKellen</td>\n",
       "      <td>6.409442e+09</td>\n",
       "    </tr>\n",
       "    <tr>\n",
       "      <th>1</th>\n",
       "      <td>Michelle Rodriguez</td>\n",
       "      <td>6.366621e+09</td>\n",
       "    </tr>\n",
       "    <tr>\n",
       "      <th>2</th>\n",
       "      <td>Tom Hanks</td>\n",
       "      <td>6.070977e+09</td>\n",
       "    </tr>\n",
       "    <tr>\n",
       "      <th>3</th>\n",
       "      <td>Samuel L. Jackson</td>\n",
       "      <td>5.716205e+09</td>\n",
       "    </tr>\n",
       "    <tr>\n",
       "      <th>4</th>\n",
       "      <td>Dwayne Johnson</td>\n",
       "      <td>5.640074e+09</td>\n",
       "    </tr>\n",
       "  </tbody>\n",
       "</table>\n",
       "</div>"
      ],
      "text/plain": [
       "                 name  total_profit\n",
       "0        Ian McKellen  6.409442e+09\n",
       "1  Michelle Rodriguez  6.366621e+09\n",
       "2           Tom Hanks  6.070977e+09\n",
       "3   Samuel L. Jackson  5.716205e+09\n",
       "4      Dwayne Johnson  5.640074e+09"
      ]
     },
     "execution_count": 45,
     "metadata": {},
     "output_type": "execute_result"
    }
   ],
   "source": [
    "query = ''' \n",
    "'''\n",
    "\n",
    "pd.read_sql(query, conn)\n",
    "\n",
    "# \tname\ttotal_profit\n",
    "# 0\tIan McKellen\t6.409442e+09\n",
    "# 1\tMichelle Rodriguez\t6.366621e+09\n",
    "# 2\tTom Hanks\t6.070977e+09\n",
    "# 3\tSamuel L. Jackson\t5.716205e+09\n",
    "# 4\tDwayne Johnson\t5.640074e+09"
   ]
  },
  {
   "cell_type": "markdown",
   "id": "naval-connecticut",
   "metadata": {},
   "source": [
    "Now let's find the five directors with the largest total budget."
   ]
  },
  {
   "cell_type": "code",
   "execution_count": 43,
   "id": "tired-class",
   "metadata": {},
   "outputs": [
    {
     "data": {
      "text/html": [
       "<div>\n",
       "<style scoped>\n",
       "    .dataframe tbody tr th:only-of-type {\n",
       "        vertical-align: middle;\n",
       "    }\n",
       "\n",
       "    .dataframe tbody tr th {\n",
       "        vertical-align: top;\n",
       "    }\n",
       "\n",
       "    .dataframe thead th {\n",
       "        text-align: right;\n",
       "    }\n",
       "</style>\n",
       "<table border=\"1\" class=\"dataframe\">\n",
       "  <thead>\n",
       "    <tr style=\"text-align: right;\">\n",
       "      <th></th>\n",
       "      <th>name</th>\n",
       "      <th>total_budget</th>\n",
       "    </tr>\n",
       "  </thead>\n",
       "  <tbody>\n",
       "    <tr>\n",
       "      <th>0</th>\n",
       "      <td>Michael Bay</td>\n",
       "      <td>1620000000</td>\n",
       "    </tr>\n",
       "    <tr>\n",
       "      <th>1</th>\n",
       "      <td>Steven Spielberg</td>\n",
       "      <td>1618000000</td>\n",
       "    </tr>\n",
       "    <tr>\n",
       "      <th>2</th>\n",
       "      <td>Ridley Scott</td>\n",
       "      <td>1423000000</td>\n",
       "    </tr>\n",
       "    <tr>\n",
       "      <th>3</th>\n",
       "      <td>Peter Jackson</td>\n",
       "      <td>1116672000</td>\n",
       "    </tr>\n",
       "    <tr>\n",
       "      <th>4</th>\n",
       "      <td>Christopher Nolan</td>\n",
       "      <td>1105006000</td>\n",
       "    </tr>\n",
       "  </tbody>\n",
       "</table>\n",
       "</div>"
      ],
      "text/plain": [
       "                name  total_budget\n",
       "0        Michael Bay    1620000000\n",
       "1   Steven Spielberg    1618000000\n",
       "2       Ridley Scott    1423000000\n",
       "3      Peter Jackson    1116672000\n",
       "4  Christopher Nolan    1105006000"
      ]
     },
     "execution_count": 43,
     "metadata": {},
     "output_type": "execute_result"
    }
   ],
   "source": [
    "query = \"\"\"\n",
    "\"\"\"\n",
    "pd.read_sql(query, conn)\n",
    "\n",
    "# \tname\ttotal_budget\n",
    "# 0\tMichael Bay\t1620000000\n",
    "# 1\tSteven Spielberg\t1618000000\n",
    "# 2\tRidley Scott\t1423000000\n",
    "# 3\tPeter Jackson\t1116672000\n",
    "# 4\tChristopher Nolan\t1105006000"
   ]
  },
  {
   "cell_type": "markdown",
   "id": "weird-stopping",
   "metadata": {},
   "source": [
    "And let's find the writers with whose total `popularity` score is in the top five, as well as the count of the number of movies for each writer."
   ]
  },
  {
   "cell_type": "code",
   "execution_count": 7,
   "id": "seasonal-empire",
   "metadata": {},
   "outputs": [],
   "source": [
    "query = \"\"\" \"\"\"\n",
    "# pd.read_sql(query, conn)\n",
    "\n",
    "# \tname\tnum_movies\ttotal_popularity\n",
    "# 0\tBrian Lynch\t3\t567.406736\n",
    "# 1\tEdgar Wright\t7\t326.178462\n",
    "# 2\tChristopher Nolan\t10\t320.734508\n",
    "# 3\tJames Cameron\t8\t310.277008\n",
    "# 4\tMichael Jelenic\t1\t294.337037"
   ]
  },
  {
   "cell_type": "markdown",
   "id": "abandoned-restriction",
   "metadata": {},
   "source": [
    "### Summary"
   ]
  },
  {
   "cell_type": "markdown",
   "id": "correct-airplane",
   "metadata": {},
   "source": [
    "In this lesson, we practiced working with the star schema.  First, we saw the structure of our schema, and how it differs from an OLTP schema.  Our OLAP schema took the following form."
   ]
  },
  {
   "cell_type": "markdown",
   "id": "forbidden-routine",
   "metadata": {},
   "source": [
    "> <img src=\"./starred_films.png\" width=\"50%\">"
   ]
  },
  {
   "cell_type": "markdown",
   "id": "promotional-remains",
   "metadata": {},
   "source": [
    "As we saw, we collapsed our many to many relationships which simplified our schema and reduced the number of joins we would need to perform a query.  We can see that our fact table contained data about the movie, and foreign keys to dimension tables.  \n",
    "\n",
    "Then we performed queries -- many of which that used a group by to analyze the movies of different according to different attributes -- like the director, writer, or actor."
   ]
  }
 ],
 "metadata": {
  "kernelspec": {
   "display_name": "Python 3",
   "language": "python",
   "name": "python3"
  },
  "language_info": {
   "codemirror_mode": {
    "name": "ipython",
    "version": 3
   },
   "file_extension": ".py",
   "mimetype": "text/x-python",
   "name": "python",
   "nbconvert_exporter": "python",
   "pygments_lexer": "ipython3",
   "version": "3.8.6"
  }
 },
 "nbformat": 4,
 "nbformat_minor": 5
}
