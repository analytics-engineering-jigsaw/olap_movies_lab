{
 "cells": [
  {
   "cell_type": "markdown",
   "id": "surgical-chapter",
   "metadata": {},
   "source": [
    "# Star Schema Lab"
   ]
  },
  {
   "cell_type": "markdown",
   "id": "living-chinese",
   "metadata": {},
   "source": [
    "### Introduction"
   ]
  },
  {
   "cell_type": "markdown",
   "id": "clinical-initial",
   "metadata": {},
   "source": [
    "In this lesson, we'll see some of the benefits of using the star schema.  Our context is to use a database of movies, this time constructed with the star schema.  Let's get started.   "
   ]
  },
  {
   "cell_type": "markdown",
   "id": "sorted-ranking",
   "metadata": {},
   "source": [
    "### Exploring our Database"
   ]
  },
  {
   "cell_type": "markdown",
   "id": "strong-columbia",
   "metadata": {},
   "source": [
    "We can begin by conneccting to our database."
   ]
  },
  {
   "cell_type": "code",
   "execution_count": 3,
   "id": "expensive-fellowship",
   "metadata": {},
   "outputs": [],
   "source": [
    "import sqlite3\n",
    "conn = sqlite3.connect('star_films.db')\n",
    "cursor = conn.cursor()"
   ]
  },
  {
   "cell_type": "code",
   "execution_count": 4,
   "id": "accepting-calculation",
   "metadata": {},
   "outputs": [
    {
     "data": {
      "text/plain": [
       "[('release_dates',), ('writers',), ('directors',), ('actors',), ('movies',)]"
      ]
     },
     "execution_count": 4,
     "metadata": {},
     "output_type": "execute_result"
    }
   ],
   "source": [
    "cursor.execute('SELECT name from sqlite_master where type= \"table\"')\n",
    "cursor.fetchall()"
   ]
  },
  {
   "cell_type": "markdown",
   "id": "traditional-conviction",
   "metadata": {},
   "source": [
    "So we have: \n",
    "\n",
    "* fact table of `movies` and,\n",
    "* dimension tables of `release_dates`, `writers`, `directors`, and `actors`."
   ]
  },
  {
   "cell_type": "markdown",
   "id": "veterinary-department",
   "metadata": {},
   "source": [
    "Now let's begin by taking a look at the fact table."
   ]
  },
  {
   "cell_type": "code",
   "execution_count": 5,
   "id": "revised-confidentiality",
   "metadata": {},
   "outputs": [
    {
     "data": {
      "text/plain": [
       "[(0, 'id', 'INTEGER', 0, None, 0),\n",
       " (1, 'title', 'TEXT', 0, None, 0),\n",
       " (2, 'runtime', 'REAL', 0, None, 0),\n",
       " (3, 'release_date_id', 'INTEGER', 0, None, 0),\n",
       " (4, 'popularity', 'TEXT', 0, None, 0),\n",
       " (5, 'vote_average', 'REAL', 0, None, 0),\n",
       " (6, 'vote_count', 'REAL', 0, None, 0),\n",
       " (7, 'revenue', 'REAL', 0, None, 0),\n",
       " (8, 'budget', 'TEXT', 0, None, 0),\n",
       " (9, 'profit', 'REAL', 0, None, 0)]"
      ]
     },
     "execution_count": 5,
     "metadata": {},
     "output_type": "execute_result"
    }
   ],
   "source": [
    "cursor.execute('PRAGMA table_info(movies)')\n",
    "cursor.fetchall()"
   ]
  },
  {
   "cell_type": "markdown",
   "id": "statistical-julian",
   "metadata": {},
   "source": [
    "As we can see, except for the title, every attribute follows our rule of being either a metric -- runtime, popularity, revenue, budget and profit -- or a foreign key, like `release_date_id`.  Notice that already our table is not normalized: profit is a derivative of revenue and budget.  But, we are ok with this in our OLAP, where we sacrifice single source of truth for queries that are faster and easier to write. "
   ]
  },
  {
   "cell_type": "markdown",
   "id": "verbal-milwaukee",
   "metadata": {},
   "source": [
    "Now let's look at a diagram of our entire schema."
   ]
  },
  {
   "cell_type": "markdown",
   "id": "fixed-wagner",
   "metadata": {},
   "source": [
    "<img src=\"./starred_films.png\" width=\"60%\">"
   ]
  },
  {
   "cell_type": "markdown",
   "id": "beneficial-walter",
   "metadata": {},
   "source": [
    "The largest change we made when moving from a OLTP database, to our OLAP database here, was to collapse our many to many relationships of writers, actors, and directors into a belongs to has many relationship.  So, for example, even though an actor does have many movies, our star schema only represents the relationship that a movie has many actors.  This is because we anticipate our queries will largely answer questions about our fact table of *movie*, and not an actor. "
   ]
  },
  {
   "cell_type": "markdown",
   "id": "acoustic-latex",
   "metadata": {},
   "source": [
    "> Notice, that with the above schema, we still *can* construct the query to find all of the movies a specific actor is in, we'll just have to specify the actor's name instead of any actor id.  For example: \n",
    "> ```sql\n",
    "SELECT *.movies FROM movies JOIN actors on movies.actor_id = actors.id WHERE actors.name = 'Harrison Ford';\n",
    "```"
   ]
  },
  {
   "cell_type": "markdown",
   "id": "billion-desperate",
   "metadata": {},
   "source": [
    "### Constructing Queries"
   ]
  },
  {
   "cell_type": "markdown",
   "id": "local-alabama",
   "metadata": {},
   "source": [
    "Ok, now we'll learn more about the benefit of constructing queries with the star schema in the next lesson, but let's get some preliminary practice."
   ]
  },
  {
   "cell_type": "markdown",
   "id": "interim-people",
   "metadata": {},
   "source": [
    "Once again here is our schema."
   ]
  },
  {
   "cell_type": "markdown",
   "id": "solved-south",
   "metadata": {},
   "source": [
    "> <img src=\"./starred_films.png\" width=\"50%\">"
   ]
  },
  {
   "cell_type": "markdown",
   "id": "logical-relevance",
   "metadata": {},
   "source": [
    "Answer the following questions:"
   ]
  },
  {
   "cell_type": "markdown",
   "id": "possible-photography",
   "metadata": {},
   "source": [
    "1. What are the top five movies by profit."
   ]
  },
  {
   "cell_type": "code",
   "execution_count": 1,
   "id": "accredited-springfield",
   "metadata": {},
   "outputs": [],
   "source": [
    "import pandas as pd"
   ]
  },
  {
   "cell_type": "code",
   "execution_count": 23,
   "id": "inappropriate-transcription",
   "metadata": {},
   "outputs": [
    {
     "data": {
      "text/html": [
       "<div>\n",
       "<style scoped>\n",
       "    .dataframe tbody tr th:only-of-type {\n",
       "        vertical-align: middle;\n",
       "    }\n",
       "\n",
       "    .dataframe tbody tr th {\n",
       "        vertical-align: top;\n",
       "    }\n",
       "\n",
       "    .dataframe thead th {\n",
       "        text-align: right;\n",
       "    }\n",
       "</style>\n",
       "<table border=\"1\" class=\"dataframe\">\n",
       "  <thead>\n",
       "    <tr style=\"text-align: right;\">\n",
       "      <th></th>\n",
       "      <th>id</th>\n",
       "      <th>title</th>\n",
       "      <th>runtime</th>\n",
       "      <th>release_date_id</th>\n",
       "      <th>popularity</th>\n",
       "      <th>vote_average</th>\n",
       "      <th>vote_count</th>\n",
       "      <th>revenue</th>\n",
       "      <th>budget</th>\n",
       "      <th>profit</th>\n",
       "    </tr>\n",
       "  </thead>\n",
       "  <tbody>\n",
       "    <tr>\n",
       "      <th>0</th>\n",
       "      <td>1089</td>\n",
       "      <td>Avatar</td>\n",
       "      <td>162.0</td>\n",
       "      <td>432</td>\n",
       "      <td>185.070892</td>\n",
       "      <td>7.2</td>\n",
       "      <td>12114.0</td>\n",
       "      <td>2.787965e+09</td>\n",
       "      <td>237000000</td>\n",
       "      <td>2.550965e+09</td>\n",
       "    </tr>\n",
       "    <tr>\n",
       "      <th>1</th>\n",
       "      <td>405</td>\n",
       "      <td>Titanic</td>\n",
       "      <td>98.0</td>\n",
       "      <td>5599</td>\n",
       "      <td>26.88907</td>\n",
       "      <td>7.5</td>\n",
       "      <td>7770.0</td>\n",
       "      <td>1.845034e+09</td>\n",
       "      <td>200000000</td>\n",
       "      <td>1.645034e+09</td>\n",
       "    </tr>\n",
       "    <tr>\n",
       "      <th>2</th>\n",
       "      <td>15109</td>\n",
       "      <td>Titanic</td>\n",
       "      <td>194.0</td>\n",
       "      <td>5603</td>\n",
       "      <td>26.88907</td>\n",
       "      <td>7.5</td>\n",
       "      <td>7770.0</td>\n",
       "      <td>1.845034e+09</td>\n",
       "      <td>200000000</td>\n",
       "      <td>1.645034e+09</td>\n",
       "    </tr>\n",
       "    <tr>\n",
       "      <th>3</th>\n",
       "      <td>2294</td>\n",
       "      <td>Jurassic World</td>\n",
       "      <td>123.0</td>\n",
       "      <td>2421</td>\n",
       "      <td>32.790475</td>\n",
       "      <td>6.5</td>\n",
       "      <td>8842.0</td>\n",
       "      <td>1.513529e+09</td>\n",
       "      <td>150000000</td>\n",
       "      <td>1.363529e+09</td>\n",
       "    </tr>\n",
       "    <tr>\n",
       "      <th>4</th>\n",
       "      <td>317</td>\n",
       "      <td>Furious 7</td>\n",
       "      <td>140.0</td>\n",
       "      <td>1752</td>\n",
       "      <td>27.275687</td>\n",
       "      <td>7.3</td>\n",
       "      <td>4253.0</td>\n",
       "      <td>1.506249e+09</td>\n",
       "      <td>190000000</td>\n",
       "      <td>1.316249e+09</td>\n",
       "    </tr>\n",
       "  </tbody>\n",
       "</table>\n",
       "</div>"
      ],
      "text/plain": [
       "      id           title  runtime  release_date_id  popularity  vote_average  \\\n",
       "0   1089          Avatar    162.0              432  185.070892           7.2   \n",
       "1    405         Titanic     98.0             5599    26.88907           7.5   \n",
       "2  15109         Titanic    194.0             5603    26.88907           7.5   \n",
       "3   2294  Jurassic World    123.0             2421   32.790475           6.5   \n",
       "4    317       Furious 7    140.0             1752   27.275687           7.3   \n",
       "\n",
       "   vote_count       revenue     budget        profit  \n",
       "0     12114.0  2.787965e+09  237000000  2.550965e+09  \n",
       "1      7770.0  1.845034e+09  200000000  1.645034e+09  \n",
       "2      7770.0  1.845034e+09  200000000  1.645034e+09  \n",
       "3      8842.0  1.513529e+09  150000000  1.363529e+09  \n",
       "4      4253.0  1.506249e+09  190000000  1.316249e+09  "
      ]
     },
     "execution_count": 23,
     "metadata": {},
     "output_type": "execute_result"
    }
   ],
   "source": [
    "pd.read_sql('SELECT movies.* FROM movies ORDER BY profit DESC LIMIT 5', conn)\n",
    "\n",
    "# \tid\ttitle\truntime\trelease_date_id\tpopularity\tvote_average\tvote_count\trevenue\tbudget\tprofit\n",
    "# 0\t1089\tAvatar\t162.0\t432\t185.070892\t7.2\t12114.0\t2.787965e+09\t237000000\t2.550965e+09\n",
    "# 1\t405\tTitanic\t98.0\t5599\t26.88907\t7.5\t7770.0\t1.845034e+09\t200000000\t1.645034e+09\n",
    "# 2\t15109\tTitanic\t194.0\t5603\t26.88907\t7.5\t7770.0\t1.845034e+09\t200000000\t1.645034e+09\n",
    "# 3\t2294\tJurassic World\t123.0\t2421\t32.790475\t6.5\t8842.0\t1.513529e+09\t150000000\t1.363529e+09\n",
    "# 4\t317\tFurious 7\t140.0\t1752\t27.275687\t7.3\t4253.0\t1.506249e+09\t190000000\t1.316249e+09"
   ]
  },
  {
   "cell_type": "markdown",
   "id": "judicial-soviet",
   "metadata": {},
   "source": [
    "Next let's find the top five actors whose movies have the highest total profit."
   ]
  },
  {
   "cell_type": "code",
   "execution_count": 45,
   "id": "durable-bargain",
   "metadata": {},
   "outputs": [
    {
     "data": {
      "text/html": [
       "<div>\n",
       "<style scoped>\n",
       "    .dataframe tbody tr th:only-of-type {\n",
       "        vertical-align: middle;\n",
       "    }\n",
       "\n",
       "    .dataframe tbody tr th {\n",
       "        vertical-align: top;\n",
       "    }\n",
       "\n",
       "    .dataframe thead th {\n",
       "        text-align: right;\n",
       "    }\n",
       "</style>\n",
       "<table border=\"1\" class=\"dataframe\">\n",
       "  <thead>\n",
       "    <tr style=\"text-align: right;\">\n",
       "      <th></th>\n",
       "      <th>name</th>\n",
       "      <th>total_profit</th>\n",
       "    </tr>\n",
       "  </thead>\n",
       "  <tbody>\n",
       "    <tr>\n",
       "      <th>0</th>\n",
       "      <td>Ian McKellen</td>\n",
       "      <td>6.409442e+09</td>\n",
       "    </tr>\n",
       "    <tr>\n",
       "      <th>1</th>\n",
       "      <td>Michelle Rodriguez</td>\n",
       "      <td>6.366621e+09</td>\n",
       "    </tr>\n",
       "    <tr>\n",
       "      <th>2</th>\n",
       "      <td>Tom Hanks</td>\n",
       "      <td>6.070977e+09</td>\n",
       "    </tr>\n",
       "    <tr>\n",
       "      <th>3</th>\n",
       "      <td>Samuel L. Jackson</td>\n",
       "      <td>5.716205e+09</td>\n",
       "    </tr>\n",
       "    <tr>\n",
       "      <th>4</th>\n",
       "      <td>Dwayne Johnson</td>\n",
       "      <td>5.640074e+09</td>\n",
       "    </tr>\n",
       "  </tbody>\n",
       "</table>\n",
       "</div>"
      ],
      "text/plain": [
       "                 name  total_profit\n",
       "0        Ian McKellen  6.409442e+09\n",
       "1  Michelle Rodriguez  6.366621e+09\n",
       "2           Tom Hanks  6.070977e+09\n",
       "3   Samuel L. Jackson  5.716205e+09\n",
       "4      Dwayne Johnson  5.640074e+09"
      ]
     },
     "execution_count": 45,
     "metadata": {},
     "output_type": "execute_result"
    }
   ],
   "source": [
    "pd.read_sql('''SELECT actors.name, SUM(movies.profit) as total_profit FROM movies JOIN actors ON actors.movie_id = movies.id\n",
    "GROUP BY actors.name ORDER BY total_profit DESC LIMIT 5''', conn)\n",
    "\n",
    "# \tname\ttotal_profit\n",
    "# 0\tIan McKellen\t6.409442e+09\n",
    "# 1\tMichelle Rodriguez\t6.366621e+09\n",
    "# 2\tTom Hanks\t6.070977e+09\n",
    "# 3\tSamuel L. Jackson\t5.716205e+09\n",
    "# 4\tDwayne Johnson\t5.640074e+09"
   ]
  },
  {
   "cell_type": "markdown",
   "id": "congressional-rogers",
   "metadata": {},
   "source": [
    "Now let's find the directors with the largest total budget."
   ]
  },
  {
   "cell_type": "code",
   "execution_count": 43,
   "id": "brutal-algebra",
   "metadata": {},
   "outputs": [
    {
     "data": {
      "text/html": [
       "<div>\n",
       "<style scoped>\n",
       "    .dataframe tbody tr th:only-of-type {\n",
       "        vertical-align: middle;\n",
       "    }\n",
       "\n",
       "    .dataframe tbody tr th {\n",
       "        vertical-align: top;\n",
       "    }\n",
       "\n",
       "    .dataframe thead th {\n",
       "        text-align: right;\n",
       "    }\n",
       "</style>\n",
       "<table border=\"1\" class=\"dataframe\">\n",
       "  <thead>\n",
       "    <tr style=\"text-align: right;\">\n",
       "      <th></th>\n",
       "      <th>name</th>\n",
       "      <th>total_budget</th>\n",
       "    </tr>\n",
       "  </thead>\n",
       "  <tbody>\n",
       "    <tr>\n",
       "      <th>0</th>\n",
       "      <td>Michael Bay</td>\n",
       "      <td>1620000000</td>\n",
       "    </tr>\n",
       "    <tr>\n",
       "      <th>1</th>\n",
       "      <td>Steven Spielberg</td>\n",
       "      <td>1618000000</td>\n",
       "    </tr>\n",
       "    <tr>\n",
       "      <th>2</th>\n",
       "      <td>Ridley Scott</td>\n",
       "      <td>1423000000</td>\n",
       "    </tr>\n",
       "    <tr>\n",
       "      <th>3</th>\n",
       "      <td>Peter Jackson</td>\n",
       "      <td>1116672000</td>\n",
       "    </tr>\n",
       "    <tr>\n",
       "      <th>4</th>\n",
       "      <td>Christopher Nolan</td>\n",
       "      <td>1105006000</td>\n",
       "    </tr>\n",
       "  </tbody>\n",
       "</table>\n",
       "</div>"
      ],
      "text/plain": [
       "                name  total_budget\n",
       "0        Michael Bay    1620000000\n",
       "1   Steven Spielberg    1618000000\n",
       "2       Ridley Scott    1423000000\n",
       "3      Peter Jackson    1116672000\n",
       "4  Christopher Nolan    1105006000"
      ]
     },
     "execution_count": 43,
     "metadata": {},
     "output_type": "execute_result"
    }
   ],
   "source": [
    "pd.read_sql('''SELECT directors.name, SUM(movies.budget) as total_budget FROM movies JOIN directors ON directors.movie_id = movies.id\n",
    "GROUP BY directors.name ORDER BY total_budget DESC LIMIT 5''', conn)\n",
    "\n",
    "# name\tavg_budget\n",
    "# 0\tMichael Bay\t1620000000\n",
    "# 1\tSteven Spielberg\t1618000000\n",
    "# 2\tRidley Scott\t1423000000\n",
    "# 3\tPeter Jackson\t1116672000\n",
    "# 4\tChristopher Nolan\t1105006000"
   ]
  },
  {
   "cell_type": "markdown",
   "id": "immediate-closure",
   "metadata": {},
   "source": [
    "And let's find the writers with whose total `popularity` score is in the top ten, as well as the count of the number of movies for each writer."
   ]
  },
  {
   "cell_type": "code",
   "execution_count": 46,
   "id": "alike-carolina",
   "metadata": {},
   "outputs": [
    {
     "data": {
      "text/html": [
       "<div>\n",
       "<style scoped>\n",
       "    .dataframe tbody tr th:only-of-type {\n",
       "        vertical-align: middle;\n",
       "    }\n",
       "\n",
       "    .dataframe tbody tr th {\n",
       "        vertical-align: top;\n",
       "    }\n",
       "\n",
       "    .dataframe thead th {\n",
       "        text-align: right;\n",
       "    }\n",
       "</style>\n",
       "<table border=\"1\" class=\"dataframe\">\n",
       "  <thead>\n",
       "    <tr style=\"text-align: right;\">\n",
       "      <th></th>\n",
       "      <th>name</th>\n",
       "      <th>num_movies</th>\n",
       "      <th>total_popularity</th>\n",
       "    </tr>\n",
       "  </thead>\n",
       "  <tbody>\n",
       "    <tr>\n",
       "      <th>0</th>\n",
       "      <td>Brian Lynch</td>\n",
       "      <td>3</td>\n",
       "      <td>567.406736</td>\n",
       "    </tr>\n",
       "    <tr>\n",
       "      <th>1</th>\n",
       "      <td>Edgar Wright</td>\n",
       "      <td>7</td>\n",
       "      <td>326.178462</td>\n",
       "    </tr>\n",
       "    <tr>\n",
       "      <th>2</th>\n",
       "      <td>Christopher Nolan</td>\n",
       "      <td>10</td>\n",
       "      <td>320.734508</td>\n",
       "    </tr>\n",
       "    <tr>\n",
       "      <th>3</th>\n",
       "      <td>James Cameron</td>\n",
       "      <td>8</td>\n",
       "      <td>310.277008</td>\n",
       "    </tr>\n",
       "    <tr>\n",
       "      <th>4</th>\n",
       "      <td>Michael Jelenic</td>\n",
       "      <td>1</td>\n",
       "      <td>294.337037</td>\n",
       "    </tr>\n",
       "  </tbody>\n",
       "</table>\n",
       "</div>"
      ],
      "text/plain": [
       "                name  num_movies  total_popularity\n",
       "0        Brian Lynch           3        567.406736\n",
       "1       Edgar Wright           7        326.178462\n",
       "2  Christopher Nolan          10        320.734508\n",
       "3      James Cameron           8        310.277008\n",
       "4    Michael Jelenic           1        294.337037"
      ]
     },
     "execution_count": 46,
     "metadata": {},
     "output_type": "execute_result"
    }
   ],
   "source": [
    "pd.read_sql('''SELECT writers.name, COUNT(movies.id) as num_movies, SUM(movies.popularity) as total_popularity FROM movies JOIN writers ON writers.movie_id = movies.id\n",
    "GROUP BY writers.name ORDER BY total_popularity DESC LIMIT 5''', conn)\n",
    "\n",
    "# \tname\tnum_movies\ttotal_popularity\n",
    "# 0\tBrian Lynch\t3\t567.406736\n",
    "# 1\tEdgar Wright\t7\t326.178462\n",
    "# 2\tChristopher Nolan\t10\t320.734508\n",
    "# 3\tJames Cameron\t8\t310.277008\n",
    "# 4\tMichael Jelenic\t1\t294.337037"
   ]
  },
  {
   "cell_type": "markdown",
   "id": "cordless-idaho",
   "metadata": {},
   "source": [
    "### Summary"
   ]
  },
  {
   "cell_type": "markdown",
   "id": "signed-dayton",
   "metadata": {},
   "source": [
    "In this lesson, we practiced working with the star schema.  First, we saw the structure of our schema, and how it differs from an OLTP schema.  Our OLAP schema took the following form."
   ]
  },
  {
   "cell_type": "markdown",
   "id": "animated-judges",
   "metadata": {},
   "source": [
    "> <img src=\"./starred_films.png\" width=\"50%\">"
   ]
  },
  {
   "cell_type": "markdown",
   "id": "internal-netscape",
   "metadata": {},
   "source": [
    "As we saw, we collapsed our many to many relationships which simplified our schema and reduced the number of joins we would need to perform a query.  We can see that our fact table contained data about the movie, and foreign keys to dimension tables.  \n",
    "\n",
    "Then we performed queries -- many of which that used a group by to analyze the movies of different according to different attributes -- like the director, writer, or actor."
   ]
  }
 ],
 "metadata": {
  "kernelspec": {
   "display_name": "Python 3",
   "language": "python",
   "name": "python3"
  },
  "language_info": {
   "codemirror_mode": {
    "name": "ipython",
    "version": 3
   },
   "file_extension": ".py",
   "mimetype": "text/x-python",
   "name": "python",
   "nbconvert_exporter": "python",
   "pygments_lexer": "ipython3",
   "version": "3.8.6"
  }
 },
 "nbformat": 4,
 "nbformat_minor": 5
}
