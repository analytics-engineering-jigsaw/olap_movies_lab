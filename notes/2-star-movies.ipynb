{
 "cells": [
  {
   "cell_type": "code",
   "execution_count": null,
   "id": "pleasant-relations",
   "metadata": {},
   "outputs": [],
   "source": []
  },
  {
   "cell_type": "code",
   "execution_count": 8,
   "id": "reduced-correspondence",
   "metadata": {},
   "outputs": [],
   "source": [
    "import sqlite3\n",
    "conn = sqlite3.connect('films.db')\n",
    "cursor = conn.cursor()"
   ]
  },
  {
   "cell_type": "code",
   "execution_count": 9,
   "id": "sexual-gossip",
   "metadata": {},
   "outputs": [
    {
     "data": {
      "text/plain": [
       "[('actors',),\n",
       " ('directors',),\n",
       " ('writers',),\n",
       " ('movies',),\n",
       " ('movie_actors',),\n",
       " ('movie_directors',),\n",
       " ('movie_writers',)]"
      ]
     },
     "execution_count": 9,
     "metadata": {},
     "output_type": "execute_result"
    }
   ],
   "source": [
    "cursor.execute('SELECT name from sqlite_master where type= \"table\"')\n",
    "cursor.fetchall()"
   ]
  },
  {
   "cell_type": "code",
   "execution_count": 10,
   "id": "biblical-friendship",
   "metadata": {},
   "outputs": [
    {
     "data": {
      "text/plain": [
       "[(0, 'id', 'INT', 0, None, 0),\n",
       " (1, 'title', 'TEXT', 0, None, 0),\n",
       " (2, 'studio', 'TEXT', 0, None, 0),\n",
       " (3, 'runtime', 'REAL', 0, None, 0),\n",
       " (4, 'description', 'TEXT', 0, None, 0),\n",
       " (5, 'release_date', 'NUM', 0, None, 0),\n",
       " (6, 'year', 'INT', 0, None, 0)]"
      ]
     },
     "execution_count": 10,
     "metadata": {},
     "output_type": "execute_result"
    }
   ],
   "source": [
    "cursor.execute('PRAGMA table_info(movies)')\n",
    "cursor.fetchall()"
   ]
  },
  {
   "cell_type": "code",
   "execution_count": 11,
   "id": "incorporated-sacrifice",
   "metadata": {},
   "outputs": [],
   "source": [
    "movies_df = pd.read_sql('SELECT * FROM movies', conn)"
   ]
  },
  {
   "cell_type": "code",
   "execution_count": 12,
   "id": "experienced-diabetes",
   "metadata": {},
   "outputs": [
    {
     "data": {
      "text/html": [
       "<div>\n",
       "<style scoped>\n",
       "    .dataframe tbody tr th:only-of-type {\n",
       "        vertical-align: middle;\n",
       "    }\n",
       "\n",
       "    .dataframe tbody tr th {\n",
       "        vertical-align: top;\n",
       "    }\n",
       "\n",
       "    .dataframe thead th {\n",
       "        text-align: right;\n",
       "    }\n",
       "</style>\n",
       "<table border=\"1\" class=\"dataframe\">\n",
       "  <thead>\n",
       "    <tr style=\"text-align: right;\">\n",
       "      <th></th>\n",
       "      <th>id</th>\n",
       "      <th>title</th>\n",
       "      <th>studio</th>\n",
       "      <th>runtime</th>\n",
       "      <th>description</th>\n",
       "      <th>release_date</th>\n",
       "      <th>year</th>\n",
       "    </tr>\n",
       "  </thead>\n",
       "  <tbody>\n",
       "    <tr>\n",
       "      <th>0</th>\n",
       "      <td>11784</td>\n",
       "      <td>!Women Art Revolution</td>\n",
       "      <td>Zeitgeist Films</td>\n",
       "      <td>83.0</td>\n",
       "      <td>Through intimate interviews, art, and rarely s...</td>\n",
       "      <td>2011-06-01 00:00:00</td>\n",
       "      <td>2011</td>\n",
       "    </tr>\n",
       "    <tr>\n",
       "      <th>1</th>\n",
       "      <td>21806</td>\n",
       "      <td>#Horror</td>\n",
       "      <td>Lowland Pictures</td>\n",
       "      <td>90.0</td>\n",
       "      <td>You've got followers... Cyberbullying goes off...</td>\n",
       "      <td>2015-11-20 00:00:00</td>\n",
       "      <td>2015</td>\n",
       "    </tr>\n",
       "  </tbody>\n",
       "</table>\n",
       "</div>"
      ],
      "text/plain": [
       "      id                  title            studio  runtime  \\\n",
       "0  11784  !Women Art Revolution   Zeitgeist Films     83.0   \n",
       "1  21806                #Horror  Lowland Pictures     90.0   \n",
       "\n",
       "                                         description         release_date  \\\n",
       "0  Through intimate interviews, art, and rarely s...  2011-06-01 00:00:00   \n",
       "1  You've got followers... Cyberbullying goes off...  2015-11-20 00:00:00   \n",
       "\n",
       "   year  \n",
       "0  2011  \n",
       "1  2015  "
      ]
     },
     "execution_count": 12,
     "metadata": {},
     "output_type": "execute_result"
    }
   ],
   "source": [
    "movies_df[:2]"
   ]
  },
  {
   "cell_type": "code",
   "execution_count": null,
   "id": "actual-intention",
   "metadata": {},
   "outputs": [],
   "source": [
    "import pandas as pd"
   ]
  },
  {
   "cell_type": "code",
   "execution_count": 5,
   "id": "amazing-constant",
   "metadata": {},
   "outputs": [
    {
     "name": "stderr",
     "output_type": "stream",
     "text": [
      "/Users/jeff/opt/miniconda3/envs/data_engineering/lib/python3.8/site-packages/IPython/core/interactiveshell.py:3062: DtypeWarning: Columns (10) have mixed types.Specify dtype option on import or set low_memory=False.\n",
      "  has_raised = await self.run_ast_nodes(code_ast.body, cell_name,\n"
     ]
    }
   ],
   "source": [
    "df = pd.read_csv('./movies_metadata.csv')"
   ]
  },
  {
   "cell_type": "code",
   "execution_count": 13,
   "id": "respiratory-jackson",
   "metadata": {},
   "outputs": [],
   "source": [
    "merged_df = movies_df.merge(df, on = ['title'])"
   ]
  },
  {
   "cell_type": "code",
   "execution_count": 14,
   "id": "attempted-relief",
   "metadata": {},
   "outputs": [
    {
     "data": {
      "text/html": [
       "<div>\n",
       "<style scoped>\n",
       "    .dataframe tbody tr th:only-of-type {\n",
       "        vertical-align: middle;\n",
       "    }\n",
       "\n",
       "    .dataframe tbody tr th {\n",
       "        vertical-align: top;\n",
       "    }\n",
       "\n",
       "    .dataframe thead th {\n",
       "        text-align: right;\n",
       "    }\n",
       "</style>\n",
       "<table border=\"1\" class=\"dataframe\">\n",
       "  <thead>\n",
       "    <tr style=\"text-align: right;\">\n",
       "      <th></th>\n",
       "      <th>id_x</th>\n",
       "      <th>title</th>\n",
       "      <th>studio</th>\n",
       "      <th>runtime_x</th>\n",
       "      <th>description</th>\n",
       "      <th>release_date_x</th>\n",
       "      <th>year</th>\n",
       "      <th>adult</th>\n",
       "      <th>belongs_to_collection</th>\n",
       "      <th>budget</th>\n",
       "      <th>...</th>\n",
       "      <th>production_countries</th>\n",
       "      <th>release_date_y</th>\n",
       "      <th>revenue</th>\n",
       "      <th>runtime_y</th>\n",
       "      <th>spoken_languages</th>\n",
       "      <th>status</th>\n",
       "      <th>tagline</th>\n",
       "      <th>video</th>\n",
       "      <th>vote_average</th>\n",
       "      <th>vote_count</th>\n",
       "    </tr>\n",
       "  </thead>\n",
       "  <tbody>\n",
       "    <tr>\n",
       "      <th>0</th>\n",
       "      <td>11784</td>\n",
       "      <td>!Women Art Revolution</td>\n",
       "      <td>Zeitgeist Films</td>\n",
       "      <td>83.0</td>\n",
       "      <td>Through intimate interviews, art, and rarely s...</td>\n",
       "      <td>2011-06-01 00:00:00</td>\n",
       "      <td>2011</td>\n",
       "      <td>False</td>\n",
       "      <td>NaN</td>\n",
       "      <td>0</td>\n",
       "      <td>...</td>\n",
       "      <td>[]</td>\n",
       "      <td>2010-01-01</td>\n",
       "      <td>0.0</td>\n",
       "      <td>83.0</td>\n",
       "      <td>[]</td>\n",
       "      <td>Released</td>\n",
       "      <td>40 years in the making!</td>\n",
       "      <td>False</td>\n",
       "      <td>4.3</td>\n",
       "      <td>2.0</td>\n",
       "    </tr>\n",
       "    <tr>\n",
       "      <th>1</th>\n",
       "      <td>21806</td>\n",
       "      <td>#Horror</td>\n",
       "      <td>Lowland Pictures</td>\n",
       "      <td>90.0</td>\n",
       "      <td>You've got followers... Cyberbullying goes off...</td>\n",
       "      <td>2015-11-20 00:00:00</td>\n",
       "      <td>2015</td>\n",
       "      <td>False</td>\n",
       "      <td>NaN</td>\n",
       "      <td>1500000</td>\n",
       "      <td>...</td>\n",
       "      <td>[{'iso_3166_1': 'US', 'name': 'United States o...</td>\n",
       "      <td>2015-11-20</td>\n",
       "      <td>0.0</td>\n",
       "      <td>90.0</td>\n",
       "      <td>[{'iso_639_1': 'en', 'name': 'English'}, {'iso...</td>\n",
       "      <td>Released</td>\n",
       "      <td>Death is trending.</td>\n",
       "      <td>False</td>\n",
       "      <td>3.4</td>\n",
       "      <td>53.0</td>\n",
       "    </tr>\n",
       "  </tbody>\n",
       "</table>\n",
       "<p>2 rows × 30 columns</p>\n",
       "</div>"
      ],
      "text/plain": [
       "    id_x                  title            studio  runtime_x  \\\n",
       "0  11784  !Women Art Revolution   Zeitgeist Films       83.0   \n",
       "1  21806                #Horror  Lowland Pictures       90.0   \n",
       "\n",
       "                                         description       release_date_x  \\\n",
       "0  Through intimate interviews, art, and rarely s...  2011-06-01 00:00:00   \n",
       "1  You've got followers... Cyberbullying goes off...  2015-11-20 00:00:00   \n",
       "\n",
       "   year  adult belongs_to_collection   budget  ...  \\\n",
       "0  2011  False                   NaN        0  ...   \n",
       "1  2015  False                   NaN  1500000  ...   \n",
       "\n",
       "                                production_countries release_date_y revenue  \\\n",
       "0                                                 []     2010-01-01     0.0   \n",
       "1  [{'iso_3166_1': 'US', 'name': 'United States o...     2015-11-20     0.0   \n",
       "\n",
       "  runtime_y                                   spoken_languages    status  \\\n",
       "0      83.0                                                 []  Released   \n",
       "1      90.0  [{'iso_639_1': 'en', 'name': 'English'}, {'iso...  Released   \n",
       "\n",
       "                   tagline  video vote_average vote_count  \n",
       "0  40 years in the making!  False          4.3        2.0  \n",
       "1       Death is trending.  False          3.4       53.0  \n",
       "\n",
       "[2 rows x 30 columns]"
      ]
     },
     "execution_count": 14,
     "metadata": {},
     "output_type": "execute_result"
    }
   ],
   "source": [
    "merged_df[:2]"
   ]
  },
  {
   "cell_type": "code",
   "execution_count": 20,
   "id": "upper-mistress",
   "metadata": {},
   "outputs": [],
   "source": [
    "selected_cols = ['id_x', 'title', 'studio', 'runtime_x', 'description', 'release_date_x',\n",
    "       'year', 'adult', 'revenue', 'budget', 'imdb_id', \n",
    "                 'popularity', 'tagline', 'vote_average', 'vote_count']\n",
    "\n",
    "selected_df = merged_df[selected_cols] "
   ]
  },
  {
   "cell_type": "code",
   "execution_count": 102,
   "id": "dominican-pencil",
   "metadata": {},
   "outputs": [],
   "source": [
    "df_revenue = selected_df[selected_df['revenue'] != 0.0]"
   ]
  },
  {
   "cell_type": "code",
   "execution_count": 103,
   "id": "talented-thesaurus",
   "metadata": {},
   "outputs": [],
   "source": [
    "df_revenue.columns = ['id', 'title', 'studio', 'runtime', 'description', 'release_date',\n",
    "       'year', 'adult', 'revenue', 'budget', 'imdb_id', 'popularity',\n",
    "       'tagline', 'vote_average', 'vote_count']"
   ]
  },
  {
   "cell_type": "code",
   "execution_count": 38,
   "id": "affected-trauma",
   "metadata": {},
   "outputs": [],
   "source": [
    "cols = ['id', 'title', 'runtime', 'revenue', 'budget', 'popularity',\n",
    "       'vote_average', 'vote_count']\n",
    "\n",
    "movies_updated = df_revenue[cols]"
   ]
  },
  {
   "cell_type": "code",
   "execution_count": 43,
   "id": "forty-involvement",
   "metadata": {},
   "outputs": [],
   "source": [
    "profit = pd.to_numeric(movies_updated['revenue']) - pd.to_numeric(movies_updated['budget'])"
   ]
  },
  {
   "cell_type": "code",
   "execution_count": 48,
   "id": "collected-turkey",
   "metadata": {},
   "outputs": [],
   "source": [
    "df_rev = movies_updated.assign(profit = profit)"
   ]
  },
  {
   "cell_type": "code",
   "execution_count": 49,
   "id": "hairy-developer",
   "metadata": {},
   "outputs": [
    {
     "data": {
      "text/html": [
       "<div>\n",
       "<style scoped>\n",
       "    .dataframe tbody tr th:only-of-type {\n",
       "        vertical-align: middle;\n",
       "    }\n",
       "\n",
       "    .dataframe tbody tr th {\n",
       "        vertical-align: top;\n",
       "    }\n",
       "\n",
       "    .dataframe thead th {\n",
       "        text-align: right;\n",
       "    }\n",
       "</style>\n",
       "<table border=\"1\" class=\"dataframe\">\n",
       "  <thead>\n",
       "    <tr style=\"text-align: right;\">\n",
       "      <th></th>\n",
       "      <th>id</th>\n",
       "      <th>title</th>\n",
       "      <th>runtime</th>\n",
       "      <th>revenue</th>\n",
       "      <th>budget</th>\n",
       "      <th>popularity</th>\n",
       "      <th>vote_average</th>\n",
       "      <th>vote_count</th>\n",
       "      <th>profit</th>\n",
       "    </tr>\n",
       "  </thead>\n",
       "  <tbody>\n",
       "    <tr>\n",
       "      <th>3</th>\n",
       "      <td>201</td>\n",
       "      <td>'71</td>\n",
       "      <td>100.0</td>\n",
       "      <td>1625847.0</td>\n",
       "      <td>0</td>\n",
       "      <td>7.080550</td>\n",
       "      <td>6.7</td>\n",
       "      <td>414.0</td>\n",
       "      <td>1625847.0</td>\n",
       "    </tr>\n",
       "    <tr>\n",
       "      <th>5</th>\n",
       "      <td>19696</td>\n",
       "      <td>...And Justice for All</td>\n",
       "      <td>119.0</td>\n",
       "      <td>33300000.0</td>\n",
       "      <td>0</td>\n",
       "      <td>6.291512</td>\n",
       "      <td>7.1</td>\n",
       "      <td>118.0</td>\n",
       "      <td>33300000.0</td>\n",
       "    </tr>\n",
       "  </tbody>\n",
       "</table>\n",
       "</div>"
      ],
      "text/plain": [
       "      id                   title  runtime     revenue budget popularity  \\\n",
       "3    201                     '71    100.0   1625847.0      0   7.080550   \n",
       "5  19696  ...And Justice for All    119.0  33300000.0      0   6.291512   \n",
       "\n",
       "   vote_average  vote_count      profit  \n",
       "3           6.7       414.0   1625847.0  \n",
       "5           7.1       118.0  33300000.0  "
      ]
     },
     "execution_count": 49,
     "metadata": {},
     "output_type": "execute_result"
    }
   ],
   "source": [
    "df_rev[:2]"
   ]
  },
  {
   "cell_type": "markdown",
   "id": "selected-earth",
   "metadata": {},
   "source": [
    "### Joining Tables"
   ]
  },
  {
   "cell_type": "code",
   "execution_count": null,
   "id": "north-olive",
   "metadata": {},
   "outputs": [],
   "source": [
    "[('actors',),\n",
    " ('directors',),\n",
    " ('writers',),\n",
    " ('movies',),\n",
    " ('movie_actors',),\n",
    " ('movie_directors',),\n",
    " ('movie_writers',)]"
   ]
  },
  {
   "cell_type": "code",
   "execution_count": 53,
   "id": "through-tattoo",
   "metadata": {},
   "outputs": [],
   "source": [
    "df_movie_actors = pd.read_sql('''SELECT movie_actors.*, actors.* FROM movie_actors \n",
    "            JOIN actors ON actors.id = movie_actors.actor_id\n",
    "            ''', conn)"
   ]
  },
  {
   "cell_type": "code",
   "execution_count": 65,
   "id": "southwest-repository",
   "metadata": {},
   "outputs": [],
   "source": [
    "selected_actors = df_movie_actors[['movie_id', 'name']]"
   ]
  },
  {
   "cell_type": "code",
   "execution_count": null,
   "id": "consolidated-russell",
   "metadata": {},
   "outputs": [],
   "source": [
    "df_movie_actors = pd.read_sql('''SELECT movie_actors.*, actors.* FROM movie_actors \n",
    "            JOIN actors ON actors.id = movie_actors.actor_id\n",
    "            ''', conn)"
   ]
  },
  {
   "cell_type": "code",
   "execution_count": 60,
   "id": "charged-durham",
   "metadata": {},
   "outputs": [],
   "source": [
    "df_movie_directors = pd.read_sql('''SELECT movie_directors.*, directors.* FROM movie_directors \n",
    "            JOIN directors ON directors.id = movie_directors.director_id\n",
    "            ''', conn)"
   ]
  },
  {
   "cell_type": "code",
   "execution_count": 64,
   "id": "union-rover",
   "metadata": {},
   "outputs": [],
   "source": [
    "selected_directors = df_movie_directors[['movie_id', 'name']]"
   ]
  },
  {
   "cell_type": "code",
   "execution_count": 68,
   "id": "patent-graduate",
   "metadata": {},
   "outputs": [],
   "source": [
    "df_movie_writers = pd.read_sql('''SELECT movie_writers.*, writers.* FROM movie_writers \n",
    "            JOIN writers ON writers.id = movie_writers.writer_id\n",
    "            ''', conn)"
   ]
  },
  {
   "cell_type": "code",
   "execution_count": 69,
   "id": "distinguished-acceptance",
   "metadata": {},
   "outputs": [],
   "source": [
    "selected_movie_writers = df_movie_writers[['movie_id', 'name']]"
   ]
  },
  {
   "cell_type": "code",
   "execution_count": 71,
   "id": "maritime-sharp",
   "metadata": {},
   "outputs": [
    {
     "data": {
      "text/html": [
       "<div>\n",
       "<style scoped>\n",
       "    .dataframe tbody tr th:only-of-type {\n",
       "        vertical-align: middle;\n",
       "    }\n",
       "\n",
       "    .dataframe tbody tr th {\n",
       "        vertical-align: top;\n",
       "    }\n",
       "\n",
       "    .dataframe thead th {\n",
       "        text-align: right;\n",
       "    }\n",
       "</style>\n",
       "<table border=\"1\" class=\"dataframe\">\n",
       "  <thead>\n",
       "    <tr style=\"text-align: right;\">\n",
       "      <th></th>\n",
       "      <th>movie_id</th>\n",
       "      <th>name</th>\n",
       "    </tr>\n",
       "  </thead>\n",
       "  <tbody>\n",
       "    <tr>\n",
       "      <th>0</th>\n",
       "      <td>1</td>\n",
       "      <td>Alfred Gough</td>\n",
       "    </tr>\n",
       "    <tr>\n",
       "      <th>1</th>\n",
       "      <td>1</td>\n",
       "      <td>Miles Millar</td>\n",
       "    </tr>\n",
       "  </tbody>\n",
       "</table>\n",
       "</div>"
      ],
      "text/plain": [
       "   movie_id          name\n",
       "0         1  Alfred Gough\n",
       "1         1  Miles Millar"
      ]
     },
     "execution_count": 71,
     "metadata": {},
     "output_type": "execute_result"
    }
   ],
   "source": [
    "selected_movie_writers[:2]"
   ]
  },
  {
   "cell_type": "code",
   "execution_count": null,
   "id": "italic-metabolism",
   "metadata": {},
   "outputs": [],
   "source": [
    "selected_movie_writers, selected_directors, selected_actors, "
   ]
  },
  {
   "cell_type": "code",
   "execution_count": 87,
   "id": "saving-scholarship",
   "metadata": {},
   "outputs": [],
   "source": [
    "def add_datepart(df, fldname, drop=True, time=False):\n",
    "    \"Helper function that adds columns relevant to a date.\"\n",
    "    fld = df[fldname]\n",
    "    fld_dtype = fld.dtype\n",
    "    if isinstance(fld_dtype, pd.core.dtypes.dtypes.DatetimeTZDtype):\n",
    "        fld_dtype = np.datetime64\n",
    "\n",
    "    if not np.issubdtype(fld_dtype, np.datetime64):\n",
    "        df[fldname] = fld = pd.to_datetime(fld, infer_datetime_format=True)\n",
    "    targ_pre = re.sub('[Dd]ate$', '', fldname)\n",
    "    attr = ['Year', 'Month', 'Week', 'Day', 'Dayofweek', 'Dayofyear',\n",
    "            'Is_month_end', 'Is_month_start', 'Is_quarter_end', 'Is_quarter_start', 'Is_year_end', 'Is_year_start']\n",
    "    if time: attr = attr + ['Hour', 'Minute', 'Second']\n",
    "    for n in attr: df[targ_pre + n] = getattr(fld.dt, n.lower())\n",
    "    df[targ_pre + 'Elapsed'] = fld.astype(np.int64) // 10 ** 9\n",
    "    if drop: df.drop(fldname, axis=1, inplace=True)"
   ]
  },
  {
   "cell_type": "code",
   "execution_count": 125,
   "id": "touched-module",
   "metadata": {},
   "outputs": [],
   "source": [
    "import numpy as np\n",
    "import re\n",
    "# add_datepart(df_revenue, 'release_date', drop = False)"
   ]
  },
  {
   "cell_type": "code",
   "execution_count": 112,
   "id": "established-military",
   "metadata": {},
   "outputs": [],
   "source": [
    "date_cols = ['id', 'title', 'release_date', 'release_Year', 'release_Month', 'release_Week', 'release_Day', 'release_Dayofweek', 'release_Dayofyear']\n",
    "\n",
    "date_df = df_revenue[date_cols]"
   ]
  },
  {
   "cell_type": "code",
   "execution_count": 115,
   "id": "improving-decrease",
   "metadata": {},
   "outputs": [],
   "source": [
    "date_df.columns = ['movie_id', 'title', 'release_date', 'year', 'month', 'week', 'day', 'wday', 'day_of_year']"
   ]
  },
  {
   "cell_type": "code",
   "execution_count": 119,
   "id": "great-bennett",
   "metadata": {},
   "outputs": [],
   "source": [
    "selected_date_df = date_df.drop(columns = ['title'])"
   ]
  },
  {
   "cell_type": "code",
   "execution_count": 123,
   "id": "built-sensitivity",
   "metadata": {},
   "outputs": [],
   "source": [
    "date_df_idx = selected_date_df.reset_index(drop = True)"
   ]
  },
  {
   "cell_type": "code",
   "execution_count": 136,
   "id": "running-paragraph",
   "metadata": {},
   "outputs": [
    {
     "data": {
      "text/plain": [
       "(5553, 8)"
      ]
     },
     "execution_count": 136,
     "metadata": {},
     "output_type": "execute_result"
    }
   ],
   "source": [
    "date_df_idx.shape"
   ]
  },
  {
   "cell_type": "code",
   "execution_count": 141,
   "id": "armed-tennessee",
   "metadata": {},
   "outputs": [
    {
     "data": {
      "text/plain": [
       "(5553, 8)"
      ]
     },
     "execution_count": 141,
     "metadata": {},
     "output_type": "execute_result"
    }
   ],
   "source": [
    "date_df_idx.shape"
   ]
  },
  {
   "cell_type": "code",
   "execution_count": 143,
   "id": "talented-armstrong",
   "metadata": {},
   "outputs": [],
   "source": [
    "merged_movies_df = date_df_idx.merge(df_rev, left_on = 'movie_id', right_on = 'id')"
   ]
  },
  {
   "cell_type": "code",
   "execution_count": 186,
   "id": "naked-offering",
   "metadata": {},
   "outputs": [
    {
     "data": {
      "text/html": [
       "<div>\n",
       "<style scoped>\n",
       "    .dataframe tbody tr th:only-of-type {\n",
       "        vertical-align: middle;\n",
       "    }\n",
       "\n",
       "    .dataframe tbody tr th {\n",
       "        vertical-align: top;\n",
       "    }\n",
       "\n",
       "    .dataframe thead th {\n",
       "        text-align: right;\n",
       "    }\n",
       "</style>\n",
       "<table border=\"1\" class=\"dataframe\">\n",
       "  <thead>\n",
       "    <tr style=\"text-align: right;\">\n",
       "      <th></th>\n",
       "      <th>movie_id</th>\n",
       "      <th>release_date</th>\n",
       "      <th>year</th>\n",
       "      <th>month</th>\n",
       "      <th>week</th>\n",
       "      <th>day</th>\n",
       "      <th>wday</th>\n",
       "      <th>day_of_year</th>\n",
       "      <th>id</th>\n",
       "      <th>title</th>\n",
       "      <th>runtime</th>\n",
       "      <th>revenue</th>\n",
       "      <th>budget</th>\n",
       "      <th>popularity</th>\n",
       "      <th>vote_average</th>\n",
       "      <th>vote_count</th>\n",
       "      <th>profit</th>\n",
       "    </tr>\n",
       "  </thead>\n",
       "  <tbody>\n",
       "    <tr>\n",
       "      <th>0</th>\n",
       "      <td>201</td>\n",
       "      <td>2015-02-27</td>\n",
       "      <td>2015</td>\n",
       "      <td>2</td>\n",
       "      <td>9</td>\n",
       "      <td>27</td>\n",
       "      <td>4</td>\n",
       "      <td>58</td>\n",
       "      <td>201</td>\n",
       "      <td>'71</td>\n",
       "      <td>100.0</td>\n",
       "      <td>1625847.0</td>\n",
       "      <td>0</td>\n",
       "      <td>7.080550</td>\n",
       "      <td>6.7</td>\n",
       "      <td>414.0</td>\n",
       "      <td>1625847.0</td>\n",
       "    </tr>\n",
       "    <tr>\n",
       "      <th>1</th>\n",
       "      <td>19696</td>\n",
       "      <td>1979-06-29</td>\n",
       "      <td>1979</td>\n",
       "      <td>6</td>\n",
       "      <td>26</td>\n",
       "      <td>29</td>\n",
       "      <td>4</td>\n",
       "      <td>180</td>\n",
       "      <td>19696</td>\n",
       "      <td>...And Justice for All</td>\n",
       "      <td>119.0</td>\n",
       "      <td>33300000.0</td>\n",
       "      <td>0</td>\n",
       "      <td>6.291512</td>\n",
       "      <td>7.1</td>\n",
       "      <td>118.0</td>\n",
       "      <td>33300000.0</td>\n",
       "    </tr>\n",
       "  </tbody>\n",
       "</table>\n",
       "</div>"
      ],
      "text/plain": [
       "   movie_id release_date  year  month  week  day  wday  day_of_year     id  \\\n",
       "0       201   2015-02-27  2015      2     9   27     4           58    201   \n",
       "1     19696   1979-06-29  1979      6    26   29     4          180  19696   \n",
       "\n",
       "                    title  runtime     revenue budget popularity  \\\n",
       "0                     '71    100.0   1625847.0      0   7.080550   \n",
       "1  ...And Justice for All    119.0  33300000.0      0   6.291512   \n",
       "\n",
       "   vote_average  vote_count      profit  \n",
       "0           6.7       414.0   1625847.0  \n",
       "1           7.1       118.0  33300000.0  "
      ]
     },
     "execution_count": 186,
     "metadata": {},
     "output_type": "execute_result"
    }
   ],
   "source": [
    "merged_movies_df[:2]"
   ]
  },
  {
   "cell_type": "code",
   "execution_count": 148,
   "id": "rural-distinction",
   "metadata": {},
   "outputs": [],
   "source": [
    "date_df = merged_movies_df[['release_date', 'year', 'month', 'week', 'day', 'wday',\n",
    "       'day_of_year']]"
   ]
  },
  {
   "cell_type": "code",
   "execution_count": 150,
   "id": "governmental-advance",
   "metadata": {},
   "outputs": [
    {
     "data": {
      "text/html": [
       "<div>\n",
       "<style scoped>\n",
       "    .dataframe tbody tr th:only-of-type {\n",
       "        vertical-align: middle;\n",
       "    }\n",
       "\n",
       "    .dataframe tbody tr th {\n",
       "        vertical-align: top;\n",
       "    }\n",
       "\n",
       "    .dataframe thead th {\n",
       "        text-align: right;\n",
       "    }\n",
       "</style>\n",
       "<table border=\"1\" class=\"dataframe\">\n",
       "  <thead>\n",
       "    <tr style=\"text-align: right;\">\n",
       "      <th></th>\n",
       "      <th>release_date</th>\n",
       "      <th>year</th>\n",
       "      <th>month</th>\n",
       "      <th>week</th>\n",
       "      <th>day</th>\n",
       "      <th>wday</th>\n",
       "      <th>day_of_year</th>\n",
       "    </tr>\n",
       "  </thead>\n",
       "  <tbody>\n",
       "    <tr>\n",
       "      <th>0</th>\n",
       "      <td>2015-02-27</td>\n",
       "      <td>2015</td>\n",
       "      <td>2</td>\n",
       "      <td>9</td>\n",
       "      <td>27</td>\n",
       "      <td>4</td>\n",
       "      <td>58</td>\n",
       "    </tr>\n",
       "    <tr>\n",
       "      <th>1</th>\n",
       "      <td>1979-06-29</td>\n",
       "      <td>1979</td>\n",
       "      <td>6</td>\n",
       "      <td>26</td>\n",
       "      <td>29</td>\n",
       "      <td>4</td>\n",
       "      <td>180</td>\n",
       "    </tr>\n",
       "  </tbody>\n",
       "</table>\n",
       "</div>"
      ],
      "text/plain": [
       "  release_date  year  month  week  day  wday  day_of_year\n",
       "0   2015-02-27  2015      2     9   27     4           58\n",
       "1   1979-06-29  1979      6    26   29     4          180"
      ]
     },
     "execution_count": 150,
     "metadata": {},
     "output_type": "execute_result"
    }
   ],
   "source": [
    "date_df[:2]"
   ]
  },
  {
   "cell_type": "code",
   "execution_count": 152,
   "id": "banner-division",
   "metadata": {},
   "outputs": [],
   "source": [
    "df_revenue_updated = merged_movies_df.assign(date_id = date_df.index)"
   ]
  },
  {
   "cell_type": "code",
   "execution_count": 187,
   "id": "infinite-mason",
   "metadata": {},
   "outputs": [],
   "source": [
    "selected_rev_df = df_revenue_updated[['id', 'title', 'runtime', 'date_id',\n",
    "       'popularity', 'vote_average', 'vote_count', 'revenue', 'budget','profit']]"
   ]
  },
  {
   "cell_type": "code",
   "execution_count": 190,
   "id": "sublime-orlando",
   "metadata": {},
   "outputs": [
    {
     "data": {
      "text/html": [
       "<div>\n",
       "<style scoped>\n",
       "    .dataframe tbody tr th:only-of-type {\n",
       "        vertical-align: middle;\n",
       "    }\n",
       "\n",
       "    .dataframe tbody tr th {\n",
       "        vertical-align: top;\n",
       "    }\n",
       "\n",
       "    .dataframe thead th {\n",
       "        text-align: right;\n",
       "    }\n",
       "</style>\n",
       "<table border=\"1\" class=\"dataframe\">\n",
       "  <thead>\n",
       "    <tr style=\"text-align: right;\">\n",
       "      <th></th>\n",
       "      <th>id</th>\n",
       "      <th>title</th>\n",
       "      <th>runtime</th>\n",
       "      <th>date_id</th>\n",
       "      <th>popularity</th>\n",
       "      <th>vote_average</th>\n",
       "      <th>vote_count</th>\n",
       "      <th>revenue</th>\n",
       "      <th>budget</th>\n",
       "      <th>profit</th>\n",
       "    </tr>\n",
       "  </thead>\n",
       "  <tbody>\n",
       "    <tr>\n",
       "      <th>0</th>\n",
       "      <td>201</td>\n",
       "      <td>'71</td>\n",
       "      <td>100.0</td>\n",
       "      <td>0</td>\n",
       "      <td>7.080550</td>\n",
       "      <td>6.7</td>\n",
       "      <td>414.0</td>\n",
       "      <td>1625847.0</td>\n",
       "      <td>0</td>\n",
       "      <td>1625847.0</td>\n",
       "    </tr>\n",
       "    <tr>\n",
       "      <th>1</th>\n",
       "      <td>19696</td>\n",
       "      <td>...And Justice for All</td>\n",
       "      <td>119.0</td>\n",
       "      <td>1</td>\n",
       "      <td>6.291512</td>\n",
       "      <td>7.1</td>\n",
       "      <td>118.0</td>\n",
       "      <td>33300000.0</td>\n",
       "      <td>0</td>\n",
       "      <td>33300000.0</td>\n",
       "    </tr>\n",
       "  </tbody>\n",
       "</table>\n",
       "</div>"
      ],
      "text/plain": [
       "      id                   title  runtime  date_id popularity  vote_average  \\\n",
       "0    201                     '71    100.0        0   7.080550           6.7   \n",
       "1  19696  ...And Justice for All    119.0        1   6.291512           7.1   \n",
       "\n",
       "   vote_count     revenue budget      profit  \n",
       "0       414.0   1625847.0      0   1625847.0  \n",
       "1       118.0  33300000.0      0  33300000.0  "
      ]
     },
     "execution_count": 190,
     "metadata": {},
     "output_type": "execute_result"
    }
   ],
   "source": [
    "selected_rev_df[:2]"
   ]
  },
  {
   "cell_type": "code",
   "execution_count": 162,
   "id": "greater-theme",
   "metadata": {},
   "outputs": [
    {
     "data": {
      "text/plain": [
       "release_date    1999-03-31 00:00:00\n",
       "year                           1999\n",
       "month                             3\n",
       "week                             13\n",
       "day                              31\n",
       "wday                              2\n",
       "day_of_year                      90\n",
       "Name: 4, dtype: object"
      ]
     },
     "execution_count": 162,
     "metadata": {},
     "output_type": "execute_result"
    }
   ],
   "source": [
    "date_df.loc[4]"
   ]
  },
  {
   "cell_type": "code",
   "execution_count": null,
   "id": "gothic-tribute",
   "metadata": {},
   "outputs": [],
   "source": [
    "date_df, selected_rev_df, selected_movie_writers, selected_directors, selected_actors"
   ]
  },
  {
   "cell_type": "code",
   "execution_count": 191,
   "id": "aggregate-insert",
   "metadata": {},
   "outputs": [],
   "source": [
    "selected_rev_df.columns = ['id', 'title', 'runtime', 'release_date_id', 'popularity', 'vote_average', \n",
    "'vote_count', 'revenue', 'budget', 'profit']"
   ]
  },
  {
   "cell_type": "code",
   "execution_count": 164,
   "id": "spare-scott",
   "metadata": {},
   "outputs": [],
   "source": [
    "import sqlite3\n",
    "conn = sqlite3.connect('star_films.db')\n",
    "cursor = conn.cursor()"
   ]
  },
  {
   "cell_type": "code",
   "execution_count": 170,
   "id": "handmade-monthly",
   "metadata": {},
   "outputs": [],
   "source": [
    "date_df.to_sql('release_dates', conn, index = True, if_exists = 'replace', index_label = 'id')"
   ]
  },
  {
   "cell_type": "code",
   "execution_count": 192,
   "id": "historic-comparison",
   "metadata": {},
   "outputs": [],
   "source": [
    "selected_rev_df.to_sql('movies', conn, index = False, if_exists = 'replace')"
   ]
  },
  {
   "cell_type": "code",
   "execution_count": 198,
   "id": "adverse-triumph",
   "metadata": {},
   "outputs": [
    {
     "data": {
      "text/html": [
       "<div>\n",
       "<style scoped>\n",
       "    .dataframe tbody tr th:only-of-type {\n",
       "        vertical-align: middle;\n",
       "    }\n",
       "\n",
       "    .dataframe tbody tr th {\n",
       "        vertical-align: top;\n",
       "    }\n",
       "\n",
       "    .dataframe thead th {\n",
       "        text-align: right;\n",
       "    }\n",
       "</style>\n",
       "<table border=\"1\" class=\"dataframe\">\n",
       "  <thead>\n",
       "    <tr style=\"text-align: right;\">\n",
       "      <th></th>\n",
       "      <th>id</th>\n",
       "      <th>title</th>\n",
       "      <th>runtime</th>\n",
       "      <th>release_date_id</th>\n",
       "      <th>popularity</th>\n",
       "      <th>vote_average</th>\n",
       "      <th>vote_count</th>\n",
       "      <th>revenue</th>\n",
       "      <th>budget</th>\n",
       "      <th>profit</th>\n",
       "    </tr>\n",
       "  </thead>\n",
       "  <tbody>\n",
       "    <tr>\n",
       "      <th>10</th>\n",
       "      <td>8722</td>\n",
       "      <td>102 Dalmatians</td>\n",
       "      <td>100.0</td>\n",
       "      <td>10</td>\n",
       "      <td>7.668752</td>\n",
       "      <td>5.1</td>\n",
       "      <td>327.0</td>\n",
       "      <td>183611771.0</td>\n",
       "      <td>85000000</td>\n",
       "      <td>98611771.0</td>\n",
       "    </tr>\n",
       "    <tr>\n",
       "      <th>11</th>\n",
       "      <td>5602</td>\n",
       "      <td>12</td>\n",
       "      <td>180.0</td>\n",
       "      <td>11</td>\n",
       "      <td>6.975759</td>\n",
       "      <td>6.6</td>\n",
       "      <td>54.0</td>\n",
       "      <td>7537453.0</td>\n",
       "      <td>4000000</td>\n",
       "      <td>3537453.0</td>\n",
       "    </tr>\n",
       "    <tr>\n",
       "      <th>12</th>\n",
       "      <td>352</td>\n",
       "      <td>12 Rounds</td>\n",
       "      <td>107.0</td>\n",
       "      <td>12</td>\n",
       "      <td>13.591485</td>\n",
       "      <td>5.7</td>\n",
       "      <td>223.0</td>\n",
       "      <td>17280326.0</td>\n",
       "      <td>20000000</td>\n",
       "      <td>-2719674.0</td>\n",
       "    </tr>\n",
       "    <tr>\n",
       "      <th>13</th>\n",
       "      <td>19106</td>\n",
       "      <td>12 Years a Slave</td>\n",
       "      <td>134.0</td>\n",
       "      <td>13</td>\n",
       "      <td>30.316249</td>\n",
       "      <td>7.9</td>\n",
       "      <td>3787.0</td>\n",
       "      <td>187000000.0</td>\n",
       "      <td>20000000</td>\n",
       "      <td>167000000.0</td>\n",
       "    </tr>\n",
       "    <tr>\n",
       "      <th>14</th>\n",
       "      <td>18635</td>\n",
       "      <td>127 Hours</td>\n",
       "      <td>94.0</td>\n",
       "      <td>14</td>\n",
       "      <td>11.176797</td>\n",
       "      <td>7.0</td>\n",
       "      <td>2668.0</td>\n",
       "      <td>35692920.0</td>\n",
       "      <td>18000000</td>\n",
       "      <td>17692920.0</td>\n",
       "    </tr>\n",
       "    <tr>\n",
       "      <th>15</th>\n",
       "      <td>16883</td>\n",
       "      <td>13</td>\n",
       "      <td>97.0</td>\n",
       "      <td>15</td>\n",
       "      <td>14.679860</td>\n",
       "      <td>5.9</td>\n",
       "      <td>247.0</td>\n",
       "      <td>3317662.0</td>\n",
       "      <td>0</td>\n",
       "      <td>3317662.0</td>\n",
       "    </tr>\n",
       "    <tr>\n",
       "      <th>16</th>\n",
       "      <td>1316</td>\n",
       "      <td>13 Assassins</td>\n",
       "      <td>126.0</td>\n",
       "      <td>16</td>\n",
       "      <td>9.534232</td>\n",
       "      <td>7.1</td>\n",
       "      <td>362.0</td>\n",
       "      <td>17555141.0</td>\n",
       "      <td>6000000</td>\n",
       "      <td>11555141.0</td>\n",
       "    </tr>\n",
       "    <tr>\n",
       "      <th>17</th>\n",
       "      <td>28197</td>\n",
       "      <td>13 Going on 30</td>\n",
       "      <td>98.0</td>\n",
       "      <td>17</td>\n",
       "      <td>12.632595</td>\n",
       "      <td>6.3</td>\n",
       "      <td>1260.0</td>\n",
       "      <td>96455697.0</td>\n",
       "      <td>37000000</td>\n",
       "      <td>59455697.0</td>\n",
       "    </tr>\n",
       "    <tr>\n",
       "      <th>18</th>\n",
       "      <td>22378</td>\n",
       "      <td>13 Sins</td>\n",
       "      <td>92.0</td>\n",
       "      <td>18</td>\n",
       "      <td>9.067788</td>\n",
       "      <td>6.2</td>\n",
       "      <td>355.0</td>\n",
       "      <td>13809.0</td>\n",
       "      <td>5000000</td>\n",
       "      <td>-4986191.0</td>\n",
       "    </tr>\n",
       "    <tr>\n",
       "      <th>19</th>\n",
       "      <td>4797</td>\n",
       "      <td>13 Tzameti</td>\n",
       "      <td>93.0</td>\n",
       "      <td>19</td>\n",
       "      <td>2.384760</td>\n",
       "      <td>6.9</td>\n",
       "      <td>66.0</td>\n",
       "      <td>767311.0</td>\n",
       "      <td>0</td>\n",
       "      <td>767311.0</td>\n",
       "    </tr>\n",
       "    <tr>\n",
       "      <th>20</th>\n",
       "      <td>22187</td>\n",
       "      <td>1408</td>\n",
       "      <td>94.0</td>\n",
       "      <td>20</td>\n",
       "      <td>9.196884</td>\n",
       "      <td>6.5</td>\n",
       "      <td>1372.0</td>\n",
       "      <td>94679598.0</td>\n",
       "      <td>25000000</td>\n",
       "      <td>69679598.0</td>\n",
       "    </tr>\n",
       "    <tr>\n",
       "      <th>21</th>\n",
       "      <td>816</td>\n",
       "      <td>1492: Conquest of Paradise</td>\n",
       "      <td>142.0</td>\n",
       "      <td>21</td>\n",
       "      <td>11.618792</td>\n",
       "      <td>6.1</td>\n",
       "      <td>180.0</td>\n",
       "      <td>7191399.0</td>\n",
       "      <td>47000000</td>\n",
       "      <td>-39808601.0</td>\n",
       "    </tr>\n",
       "  </tbody>\n",
       "</table>\n",
       "</div>"
      ],
      "text/plain": [
       "       id                       title  runtime  release_date_id popularity  \\\n",
       "10   8722              102 Dalmatians    100.0               10   7.668752   \n",
       "11   5602                          12    180.0               11   6.975759   \n",
       "12    352                   12 Rounds    107.0               12  13.591485   \n",
       "13  19106            12 Years a Slave    134.0               13  30.316249   \n",
       "14  18635                   127 Hours     94.0               14  11.176797   \n",
       "15  16883                          13     97.0               15  14.679860   \n",
       "16   1316                13 Assassins    126.0               16   9.534232   \n",
       "17  28197              13 Going on 30     98.0               17  12.632595   \n",
       "18  22378                     13 Sins     92.0               18   9.067788   \n",
       "19   4797                  13 Tzameti     93.0               19   2.384760   \n",
       "20  22187                        1408     94.0               20   9.196884   \n",
       "21    816  1492: Conquest of Paradise    142.0               21  11.618792   \n",
       "\n",
       "    vote_average  vote_count      revenue    budget       profit  \n",
       "10           5.1       327.0  183611771.0  85000000   98611771.0  \n",
       "11           6.6        54.0    7537453.0   4000000    3537453.0  \n",
       "12           5.7       223.0   17280326.0  20000000   -2719674.0  \n",
       "13           7.9      3787.0  187000000.0  20000000  167000000.0  \n",
       "14           7.0      2668.0   35692920.0  18000000   17692920.0  \n",
       "15           5.9       247.0    3317662.0         0    3317662.0  \n",
       "16           7.1       362.0   17555141.0   6000000   11555141.0  \n",
       "17           6.3      1260.0   96455697.0  37000000   59455697.0  \n",
       "18           6.2       355.0      13809.0   5000000   -4986191.0  \n",
       "19           6.9        66.0     767311.0         0     767311.0  \n",
       "20           6.5      1372.0   94679598.0  25000000   69679598.0  \n",
       "21           6.1       180.0    7191399.0  47000000  -39808601.0  "
      ]
     },
     "execution_count": 198,
     "metadata": {},
     "output_type": "execute_result"
    }
   ],
   "source": [
    "selected_rev_df[10:22]"
   ]
  },
  {
   "cell_type": "code",
   "execution_count": null,
   "id": "advanced-narrative",
   "metadata": {},
   "outputs": [],
   "source": []
  },
  {
   "cell_type": "code",
   "execution_count": null,
   "id": "chronic-while",
   "metadata": {},
   "outputs": [],
   "source": []
  }
 ],
 "metadata": {
  "kernelspec": {
   "display_name": "Python 3",
   "language": "python",
   "name": "python3"
  },
  "language_info": {
   "codemirror_mode": {
    "name": "ipython",
    "version": 3
   },
   "file_extension": ".py",
   "mimetype": "text/x-python",
   "name": "python",
   "nbconvert_exporter": "python",
   "pygments_lexer": "ipython3",
   "version": "3.8.6"
  }
 },
 "nbformat": 4,
 "nbformat_minor": 5
}
