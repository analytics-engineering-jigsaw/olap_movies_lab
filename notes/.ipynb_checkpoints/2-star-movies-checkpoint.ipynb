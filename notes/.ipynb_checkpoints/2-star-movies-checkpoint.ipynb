{
 "cells": [
  {
   "cell_type": "code",
   "execution_count": null,
   "id": "unexpected-ordinance",
   "metadata": {},
   "outputs": [],
   "source": []
  },
  {
   "cell_type": "code",
   "execution_count": 8,
   "id": "published-launch",
   "metadata": {},
   "outputs": [],
   "source": [
    "import sqlite3\n",
    "c = sqlite3.connect('films.db')\n",
    "cursor = conn.cursor()"
   ]
  },
  {
   "cell_type": "code",
   "execution_count": 9,
   "id": "understanding-signature",
   "metadata": {},
   "outputs": [
    {
     "data": {
      "text/plain": [
       "[('actors',),\n",
       " ('directors',),\n",
       " ('writers',),\n",
       " ('movies',),\n",
       " ('movie_actors',),\n",
       " ('movie_directors',),\n",
       " ('movie_writers',)]"
      ]
     },
     "execution_count": 9,
     "metadata": {},
     "output_type": "execute_result"
    }
   ],
   "source": [
    "cursor.execute('SELECT name from sqlite_master where type= \"table\"')\n",
    "cursor.fetchall()"
   ]
  },
  {
   "cell_type": "code",
   "execution_count": 10,
   "id": "incomplete-collapse",
   "metadata": {},
   "outputs": [
    {
     "data": {
      "text/plain": [
       "[(0, 'id', 'INT', 0, None, 0),\n",
       " (1, 'title', 'TEXT', 0, None, 0),\n",
       " (2, 'studio', 'TEXT', 0, None, 0),\n",
       " (3, 'runtime', 'REAL', 0, None, 0),\n",
       " (4, 'description', 'TEXT', 0, None, 0),\n",
       " (5, 'release_date', 'NUM', 0, None, 0),\n",
       " (6, 'year', 'INT', 0, None, 0)]"
      ]
     },
     "execution_count": 10,
     "metadata": {},
     "output_type": "execute_result"
    }
   ],
   "source": [
    "cursor.execute('PRAGMA table_info(movies)')\n",
    "cursor.fetchall()"
   ]
  },
  {
   "cell_type": "code",
   "execution_count": 11,
   "id": "portable-thong",
   "metadata": {},
   "outputs": [],
   "source": [
    "movies_df = pd.read_sql('SELECT * FROM movies', conn)"
   ]
  },
  {
   "cell_type": "code",
   "execution_count": 12,
   "id": "million-interstate",
   "metadata": {},
   "outputs": [
    {
     "data": {
      "text/html": [
       "<div>\n",
       "<style scoped>\n",
       "    .dataframe tbody tr th:only-of-type {\n",
       "        vertical-align: middle;\n",
       "    }\n",
       "\n",
       "    .dataframe tbody tr th {\n",
       "        vertical-align: top;\n",
       "    }\n",
       "\n",
       "    .dataframe thead th {\n",
       "        text-align: right;\n",
       "    }\n",
       "</style>\n",
       "<table border=\"1\" class=\"dataframe\">\n",
       "  <thead>\n",
       "    <tr style=\"text-align: right;\">\n",
       "      <th></th>\n",
       "      <th>id</th>\n",
       "      <th>title</th>\n",
       "      <th>studio</th>\n",
       "      <th>runtime</th>\n",
       "      <th>description</th>\n",
       "      <th>release_date</th>\n",
       "      <th>year</th>\n",
       "    </tr>\n",
       "  </thead>\n",
       "  <tbody>\n",
       "    <tr>\n",
       "      <th>0</th>\n",
       "      <td>11784</td>\n",
       "      <td>!Women Art Revolution</td>\n",
       "      <td>Zeitgeist Films</td>\n",
       "      <td>83.0</td>\n",
       "      <td>Through intimate interviews, art, and rarely s...</td>\n",
       "      <td>2011-06-01 00:00:00</td>\n",
       "      <td>2011</td>\n",
       "    </tr>\n",
       "    <tr>\n",
       "      <th>1</th>\n",
       "      <td>21806</td>\n",
       "      <td>#Horror</td>\n",
       "      <td>Lowland Pictures</td>\n",
       "      <td>90.0</td>\n",
       "      <td>You've got followers... Cyberbullying goes off...</td>\n",
       "      <td>2015-11-20 00:00:00</td>\n",
       "      <td>2015</td>\n",
       "    </tr>\n",
       "  </tbody>\n",
       "</table>\n",
       "</div>"
      ],
      "text/plain": [
       "      id                  title            studio  runtime  \\\n",
       "0  11784  !Women Art Revolution   Zeitgeist Films     83.0   \n",
       "1  21806                #Horror  Lowland Pictures     90.0   \n",
       "\n",
       "                                         description         release_date  \\\n",
       "0  Through intimate interviews, art, and rarely s...  2011-06-01 00:00:00   \n",
       "1  You've got followers... Cyberbullying goes off...  2015-11-20 00:00:00   \n",
       "\n",
       "   year  \n",
       "0  2011  \n",
       "1  2015  "
      ]
     },
     "execution_count": 12,
     "metadata": {},
     "output_type": "execute_result"
    }
   ],
   "source": [
    "movies_df[:2]"
   ]
  },
  {
   "cell_type": "code",
   "execution_count": null,
   "id": "national-tribune",
   "metadata": {},
   "outputs": [],
   "source": [
    "import pandas as pd"
   ]
  },
  {
   "cell_type": "code",
   "execution_count": 5,
   "id": "paperback-software",
   "metadata": {},
   "outputs": [
    {
     "name": "stderr",
     "output_type": "stream",
     "text": [
      "/Users/jeff/opt/miniconda3/envs/data_engineering/lib/python3.8/site-packages/IPython/core/interactiveshell.py:3062: DtypeWarning: Columns (10) have mixed types.Specify dtype option on import or set low_memory=False.\n",
      "  has_raised = await self.run_ast_nodes(code_ast.body, cell_name,\n"
     ]
    }
   ],
   "source": [
    "df = pd.read_csv('./movies_metadata.csv')"
   ]
  },
  {
   "cell_type": "code",
   "execution_count": 13,
   "id": "norman-chapel",
   "metadata": {},
   "outputs": [],
   "source": [
    "merged_df = movies_df.merge(df, on = ['title'])"
   ]
  },
  {
   "cell_type": "code",
   "execution_count": 14,
   "id": "cathedral-deviation",
   "metadata": {},
   "outputs": [
    {
     "data": {
      "text/html": [
       "<div>\n",
       "<style scoped>\n",
       "    .dataframe tbody tr th:only-of-type {\n",
       "        vertical-align: middle;\n",
       "    }\n",
       "\n",
       "    .dataframe tbody tr th {\n",
       "        vertical-align: top;\n",
       "    }\n",
       "\n",
       "    .dataframe thead th {\n",
       "        text-align: right;\n",
       "    }\n",
       "</style>\n",
       "<table border=\"1\" class=\"dataframe\">\n",
       "  <thead>\n",
       "    <tr style=\"text-align: right;\">\n",
       "      <th></th>\n",
       "      <th>id_x</th>\n",
       "      <th>title</th>\n",
       "      <th>studio</th>\n",
       "      <th>runtime_x</th>\n",
       "      <th>description</th>\n",
       "      <th>release_date_x</th>\n",
       "      <th>year</th>\n",
       "      <th>adult</th>\n",
       "      <th>belongs_to_collection</th>\n",
       "      <th>budget</th>\n",
       "      <th>...</th>\n",
       "      <th>production_countries</th>\n",
       "      <th>release_date_y</th>\n",
       "      <th>revenue</th>\n",
       "      <th>runtime_y</th>\n",
       "      <th>spoken_languages</th>\n",
       "      <th>status</th>\n",
       "      <th>tagline</th>\n",
       "      <th>video</th>\n",
       "      <th>vote_average</th>\n",
       "      <th>vote_count</th>\n",
       "    </tr>\n",
       "  </thead>\n",
       "  <tbody>\n",
       "    <tr>\n",
       "      <th>0</th>\n",
       "      <td>11784</td>\n",
       "      <td>!Women Art Revolution</td>\n",
       "      <td>Zeitgeist Films</td>\n",
       "      <td>83.0</td>\n",
       "      <td>Through intimate interviews, art, and rarely s...</td>\n",
       "      <td>2011-06-01 00:00:00</td>\n",
       "      <td>2011</td>\n",
       "      <td>False</td>\n",
       "      <td>NaN</td>\n",
       "      <td>0</td>\n",
       "      <td>...</td>\n",
       "      <td>[]</td>\n",
       "      <td>2010-01-01</td>\n",
       "      <td>0.0</td>\n",
       "      <td>83.0</td>\n",
       "      <td>[]</td>\n",
       "      <td>Released</td>\n",
       "      <td>40 years in the making!</td>\n",
       "      <td>False</td>\n",
       "      <td>4.3</td>\n",
       "      <td>2.0</td>\n",
       "    </tr>\n",
       "    <tr>\n",
       "      <th>1</th>\n",
       "      <td>21806</td>\n",
       "      <td>#Horror</td>\n",
       "      <td>Lowland Pictures</td>\n",
       "      <td>90.0</td>\n",
       "      <td>You've got followers... Cyberbullying goes off...</td>\n",
       "      <td>2015-11-20 00:00:00</td>\n",
       "      <td>2015</td>\n",
       "      <td>False</td>\n",
       "      <td>NaN</td>\n",
       "      <td>1500000</td>\n",
       "      <td>...</td>\n",
       "      <td>[{'iso_3166_1': 'US', 'name': 'United States o...</td>\n",
       "      <td>2015-11-20</td>\n",
       "      <td>0.0</td>\n",
       "      <td>90.0</td>\n",
       "      <td>[{'iso_639_1': 'en', 'name': 'English'}, {'iso...</td>\n",
       "      <td>Released</td>\n",
       "      <td>Death is trending.</td>\n",
       "      <td>False</td>\n",
       "      <td>3.4</td>\n",
       "      <td>53.0</td>\n",
       "    </tr>\n",
       "  </tbody>\n",
       "</table>\n",
       "<p>2 rows × 30 columns</p>\n",
       "</div>"
      ],
      "text/plain": [
       "    id_x                  title            studio  runtime_x  \\\n",
       "0  11784  !Women Art Revolution   Zeitgeist Films       83.0   \n",
       "1  21806                #Horror  Lowland Pictures       90.0   \n",
       "\n",
       "                                         description       release_date_x  \\\n",
       "0  Through intimate interviews, art, and rarely s...  2011-06-01 00:00:00   \n",
       "1  You've got followers... Cyberbullying goes off...  2015-11-20 00:00:00   \n",
       "\n",
       "   year  adult belongs_to_collection   budget  ...  \\\n",
       "0  2011  False                   NaN        0  ...   \n",
       "1  2015  False                   NaN  1500000  ...   \n",
       "\n",
       "                                production_countries release_date_y revenue  \\\n",
       "0                                                 []     2010-01-01     0.0   \n",
       "1  [{'iso_3166_1': 'US', 'name': 'United States o...     2015-11-20     0.0   \n",
       "\n",
       "  runtime_y                                   spoken_languages    status  \\\n",
       "0      83.0                                                 []  Released   \n",
       "1      90.0  [{'iso_639_1': 'en', 'name': 'English'}, {'iso...  Released   \n",
       "\n",
       "                   tagline  video vote_average vote_count  \n",
       "0  40 years in the making!  False          4.3        2.0  \n",
       "1       Death is trending.  False          3.4       53.0  \n",
       "\n",
       "[2 rows x 30 columns]"
      ]
     },
     "execution_count": 14,
     "metadata": {},
     "output_type": "execute_result"
    }
   ],
   "source": [
    "merged_df[:2]"
   ]
  },
  {
   "cell_type": "code",
   "execution_count": 20,
   "id": "guilty-straight",
   "metadata": {},
   "outputs": [],
   "source": [
    "selected_cols = ['id_x', 'title', 'studio', 'runtime_x', 'description', 'release_date_x',\n",
    "       'year', 'adult', 'revenue', 'budget', 'imdb_id', \n",
    "                 'popularity', 'tagline', 'vote_average', 'vote_count']\n",
    "\n",
    "selected_df = merged_df[selected_cols] "
   ]
  },
  {
   "cell_type": "code",
   "execution_count": 25,
   "id": "available-field",
   "metadata": {},
   "outputs": [],
   "source": [
    "df_revenue = selected_df[selected_df['revenue'] != 0.0]"
   ]
  },
  {
   "cell_type": "code",
   "execution_count": 28,
   "id": "processed-cutting",
   "metadata": {},
   "outputs": [],
   "source": [
    "df_revenue.columns = ['id', 'title', 'studio', 'runtime', 'description', 'release_date',\n",
    "       'year', 'adult', 'revenue', 'budget', 'imdb_id', 'popularity',\n",
    "       'tagline', 'vote_average', 'vote_count']"
   ]
  },
  {
   "cell_type": "code",
   "execution_count": 38,
   "id": "allied-library",
   "metadata": {},
   "outputs": [],
   "source": [
    "cols = ['id', 'title', 'runtime', 'revenue', 'budget', 'popularity',\n",
    "       'vote_average', 'vote_count']\n",
    "\n",
    "movies_updated = df_revenue[cols]"
   ]
  },
  {
   "cell_type": "code",
   "execution_count": 43,
   "id": "grateful-infrared",
   "metadata": {},
   "outputs": [],
   "source": [
    "profit = pd.to_numeric(movies_updated['revenue']) - pd.to_numeric(movies_updated['budget'])"
   ]
  },
  {
   "cell_type": "code",
   "execution_count": 48,
   "id": "expensive-virus",
   "metadata": {},
   "outputs": [],
   "source": [
    "df_rev = movies_updated.assign(profit = profit)"
   ]
  },
  {
   "cell_type": "code",
   "execution_count": 49,
   "id": "adult-copying",
   "metadata": {},
   "outputs": [
    {
     "data": {
      "text/html": [
       "<div>\n",
       "<style scoped>\n",
       "    .dataframe tbody tr th:only-of-type {\n",
       "        vertical-align: middle;\n",
       "    }\n",
       "\n",
       "    .dataframe tbody tr th {\n",
       "        vertical-align: top;\n",
       "    }\n",
       "\n",
       "    .dataframe thead th {\n",
       "        text-align: right;\n",
       "    }\n",
       "</style>\n",
       "<table border=\"1\" class=\"dataframe\">\n",
       "  <thead>\n",
       "    <tr style=\"text-align: right;\">\n",
       "      <th></th>\n",
       "      <th>id</th>\n",
       "      <th>title</th>\n",
       "      <th>runtime</th>\n",
       "      <th>revenue</th>\n",
       "      <th>budget</th>\n",
       "      <th>popularity</th>\n",
       "      <th>vote_average</th>\n",
       "      <th>vote_count</th>\n",
       "      <th>profit</th>\n",
       "    </tr>\n",
       "  </thead>\n",
       "  <tbody>\n",
       "    <tr>\n",
       "      <th>3</th>\n",
       "      <td>201</td>\n",
       "      <td>'71</td>\n",
       "      <td>100.0</td>\n",
       "      <td>1625847.0</td>\n",
       "      <td>0</td>\n",
       "      <td>7.080550</td>\n",
       "      <td>6.7</td>\n",
       "      <td>414.0</td>\n",
       "      <td>1625847.0</td>\n",
       "    </tr>\n",
       "    <tr>\n",
       "      <th>5</th>\n",
       "      <td>19696</td>\n",
       "      <td>...And Justice for All</td>\n",
       "      <td>119.0</td>\n",
       "      <td>33300000.0</td>\n",
       "      <td>0</td>\n",
       "      <td>6.291512</td>\n",
       "      <td>7.1</td>\n",
       "      <td>118.0</td>\n",
       "      <td>33300000.0</td>\n",
       "    </tr>\n",
       "  </tbody>\n",
       "</table>\n",
       "</div>"
      ],
      "text/plain": [
       "      id                   title  runtime     revenue budget popularity  \\\n",
       "3    201                     '71    100.0   1625847.0      0   7.080550   \n",
       "5  19696  ...And Justice for All    119.0  33300000.0      0   6.291512   \n",
       "\n",
       "   vote_average  vote_count      profit  \n",
       "3           6.7       414.0   1625847.0  \n",
       "5           7.1       118.0  33300000.0  "
      ]
     },
     "execution_count": 49,
     "metadata": {},
     "output_type": "execute_result"
    }
   ],
   "source": [
    "df_rev[:2]"
   ]
  },
  {
   "cell_type": "markdown",
   "id": "exotic-infrastructure",
   "metadata": {},
   "source": [
    "### Joining Tables"
   ]
  },
  {
   "cell_type": "code",
   "execution_count": null,
   "id": "demanding-pierce",
   "metadata": {},
   "outputs": [],
   "source": []
  }
 ],
 "metadata": {
  "kernelspec": {
   "display_name": "Python 3",
   "language": "python",
   "name": "python3"
  },
  "language_info": {
   "codemirror_mode": {
    "name": "ipython",
    "version": 3
   },
   "file_extension": ".py",
   "mimetype": "text/x-python",
   "name": "python",
   "nbconvert_exporter": "python",
   "pygments_lexer": "ipython3",
   "version": "3.8.6"
  }
 },
 "nbformat": 4,
 "nbformat_minor": 5
}
